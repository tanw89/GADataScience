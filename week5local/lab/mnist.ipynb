{
 "cells": [
  {
   "cell_type": "markdown",
   "metadata": {
    "collapsed": true
   },
   "source": [
    "# Handwritten Digit Recognition\n",
    "\n",
    "This tutorial guides you through a classic computer vision application: identify hand written digits with neural networks. \n",
    "\n",
    "## Load data\n",
    "\n",
    "We first fetch the [MNIST](http://yann.lecun.com/exdb/mnist/) dataset, which is a commonly used dataset for handwritten digit recognition. Each image in this dataset has been resized into 28x28 with grayscale value between 0 and 254. The following codes download and load the images and the according labels into `numpy`."
   ]
  },
  {
   "cell_type": "code",
   "execution_count": 1,
   "metadata": {
    "collapsed": true
   },
   "outputs": [],
   "source": [
    "import numpy as np\n",
    "import os\n",
    "import urllib.request\n",
    "import gzip\n",
    "import struct\n",
    "\n",
    "def download_data(url, force_download=True): \n",
    "    fname = url.split(\"/\")[-1]\n",
    "    if force_download or not os.path.exists(fname):\n",
    "        urllib.request.urlretrieve(url, fname)\n",
    "    return fname\n",
    "\n",
    "def read_data(label_url, image_url):\n",
    "    with gzip.open(download_data(label_url)) as flbl:\n",
    "        magic, num = struct.unpack(\">II\", flbl.read(8))\n",
    "        label = np.fromstring(flbl.read(), dtype=np.int8)\n",
    "    with gzip.open(download_data(image_url), 'rb') as fimg:\n",
    "        magic, num, rows, cols = struct.unpack(\">IIII\", fimg.read(16))\n",
    "        image = np.fromstring(fimg.read(), dtype=np.uint8).reshape(len(label), rows, cols)\n",
    "    return (label, image)\n",
    "\n",
    "path='http://yann.lecun.com/exdb/mnist/'\n",
    "(train_lbl, train_img) = read_data(\n",
    "    path+'train-labels-idx1-ubyte.gz', path+'train-images-idx3-ubyte.gz')\n",
    "(val_lbl, val_img) = read_data(\n",
    "    path+'t10k-labels-idx1-ubyte.gz', path+'t10k-images-idx3-ubyte.gz')"
   ]
  },
  {
   "cell_type": "markdown",
   "metadata": {},
   "source": [
    "We plot the first 10 images and print their labels. "
   ]
  },
  {
   "cell_type": "code",
   "execution_count": 2,
   "metadata": {
    "collapsed": false,
    "scrolled": true
   },
   "outputs": [
    {
     "data": {
      "image/png": "[encoded data removed]",
      "text/plain": [
       "<matplotlib.figure.Figure at 0x1e940847c88>"
      ]
     },
     "metadata": {},
     "output_type": "display_data"
    },
    {
     "name": "stdout",
     "output_type": "stream",
     "text": [
      "label: [5 0 4 1 9 2 1 3 1 4]\n"
     ]
    }
   ],
   "source": [
    "%matplotlib inline\n",
    "import matplotlib.pyplot as plt\n",
    "for i in range(10):\n",
    "    plt.subplot(1,10,i+1)\n",
    "    plt.imshow(train_img[i], cmap='Greys_r')\n",
    "    plt.axis('off')\n",
    "plt.show()\n",
    "print('label: %s' % (train_lbl[0:10],))"
   ]
  },
  {
   "cell_type": "markdown",
   "metadata": {},
   "source": [
    "Next we create data iterators for MXNet. The data iterator, which is similar the iterator, returns a batch of data in each `next()` call. A batch contains several images with its according labels. These images are stored in a 4-D matrix with shape `(batch_size, num_channels, width, height)`. For the MNIST dataset, there is only one color channel, and both width and height are 28. In addition, we often shuffle the images used for training, which accelerates the training progress."
   ]
  },
  {
   "cell_type": "code",
   "execution_count": 3,
   "metadata": {
    "collapsed": true
   },
   "outputs": [],
   "source": [
    "import mxnet as mx\n",
    "\n",
    "def to4d(img):\n",
    "    return img.reshape(img.shape[0], 1, 28, 28).astype(np.float32)/255\n",
    "\n",
    "batch_size = 100\n",
    "train_iter = mx.io.NDArrayIter(to4d(train_img), train_lbl, batch_size, shuffle=True)\n",
    "val_iter = mx.io.NDArrayIter(to4d(val_img), val_lbl, batch_size)"
   ]
  },
  {
   "cell_type": "markdown",
   "metadata": {},
   "source": [
    "## Multilayer Perceptron\n",
    "\n",
    "A multilayer perceptron contains several fully-connected layers. A fully-connected layer, with an *n x m* input matrix *X* outputs a matrix *Y* with size *n x k*, where *k* is often called as the hidden size. This layer has two parameters, the *m x k* weight matrix *W* and the *m x 1* bias vector *b*. It compute the outputs with\n",
    "\n",
    "$$Y = W X + b.$$\n",
    "\n",
    "The output of a fully-connected layer is often feed into an activation layer, which performs element-wise operations. Two common options are the sigmoid function, or the rectifier (or \"relu\") function, which outputs the max of 0 and the input.\n",
    "\n",
    "The last fully-connected layer often has the hidden size equals to the number of classes in the dataset. Then we stack a softmax layer, which map the input into a probability score. Again assume the input *X* has size *n x m*:\n",
    "\n",
    "$$ \\left[\\frac{\\exp(x_{i1})}{\\sum_{j=1}^m \\exp(x_{ij})},\\ldots, \\frac{\\exp(x_{im})}{\\sum_{j=1}^m \\exp(x_{ij})}\\right] $$\n",
    "\n",
    "Defining the multilayer perceptron in MXNet is straightforward, which has shown as following."
   ]
  },
  {
   "cell_type": "code",
   "execution_count": 4,
   "metadata": {
    "collapsed": false
   },
   "outputs": [
    {
     "name": "stderr",
     "output_type": "stream",
     "text": [
      "C:\\Users\\tanw\\Anaconda2\\envs\\py35\\lib\\site-packages\\jupyter_client\\jsonutil.py:67: DeprecationWarning: Interpreting naive datetime as local 2017-09-17 00:24:32.199000. Please add timezone info to timestamps.\n",
      "  new_obj[k] = extract_dates(v)\n"
     ]
    },
    {
     "data": {
      "image/svg+xml": [
       "<?xml version=\"1.0\" encoding=\"UTF-8\" standalone=\"no\"?>\r\n",
       "<!DOCTYPE svg PUBLIC \"-//W3C//DTD SVG 1.1//EN\"\r\n",
       " \"http://www.w3.org/Graphics/SVG/1.1/DTD/svg11.dtd\">\r\n",
       "<!-- Generated by graphviz version 2.38.0 (20140413.2041)\r\n",
       " -->\r\n",
       "<!-- Title: plot Pages: 1 -->\r\n",
       "<svg width=\"214pt\" height=\"829pt\"\r\n",
       " viewBox=\"0.00 0.00 214.00 829.00\" xmlns=\"http://www.w3.org/2000/svg\" xmlns:xlink=\"http://www.w3.org/1999/xlink\">\r\n",
       "<g id=\"graph0\" class=\"graph\" transform=\"scale(1 1) rotate(0) translate(4 825)\">\r\n",
       "<title>plot</title>\r\n",
       "<polygon fill=\"white\" stroke=\"none\" points=\"-4,4 -4,-825 210,-825 210,4 -4,4\"/>\r\n",
       "<!-- data -->\r\n",
       "<g id=\"node1\" class=\"node\"><title>data</title>\r\n",
       "<ellipse fill=\"#8dd3c7\" stroke=\"black\" cx=\"47\" cy=\"-29\" rx=\"47\" ry=\"29\"/>\r\n",
       "<text text-anchor=\"middle\" x=\"47\" y=\"-25.3\" font-family=\"Times New Roman,serif\" font-size=\"14.00\">data</text>\r\n",
       "</g>\r\n",
       "<!-- flatten0 -->\r\n",
       "<g id=\"node2\" class=\"node\"><title>flatten0</title>\r\n",
       "<polygon fill=\"#fdb462\" stroke=\"black\" points=\"94,-167 -7.10543e-015,-167 -7.10543e-015,-109 94,-109 94,-167\"/>\r\n",
       "<text text-anchor=\"middle\" x=\"47\" y=\"-134.3\" font-family=\"Times New Roman,serif\" font-size=\"14.00\">flatten0</text>\r\n",
       "</g>\r\n",
       "<!-- flatten0&#45;&gt;data -->\r\n",
       "<g id=\"edge1\" class=\"edge\"><title>flatten0&#45;&gt;data</title>\r\n",
       "<path fill=\"none\" stroke=\"black\" d=\"M47,-98.5824C47,-85.2841 47,-70.632 47,-58.2967\"/>\r\n",
       "<polygon fill=\"black\" stroke=\"black\" points=\"47,-108.887 42.5001,-98.887 47,-103.887 47.0001,-98.887 47.0001,-98.887 47.0001,-98.887 47,-103.887 51.5001,-98.8871 47,-108.887 47,-108.887\"/>\r\n",
       "<text text-anchor=\"middle\" x=\"71\" y=\"-79.8\" font-family=\"Times New Roman,serif\" font-size=\"14.00\">1x28x28</text>\r\n",
       "</g>\r\n",
       "<!-- fc1 -->\r\n",
       "<g id=\"node3\" class=\"node\"><title>fc1</title>\r\n",
       "<polygon fill=\"#fb8072\" stroke=\"black\" points=\"94,-276 -7.10543e-015,-276 -7.10543e-015,-218 94,-218 94,-276\"/>\r\n",
       "<text text-anchor=\"middle\" x=\"47\" y=\"-250.8\" font-family=\"Times New Roman,serif\" font-size=\"14.00\">FullyConnected</text>\r\n",
       "<text text-anchor=\"middle\" x=\"47\" y=\"-235.8\" font-family=\"Times New Roman,serif\" font-size=\"14.00\">128</text>\r\n",
       "</g>\r\n",
       "<!-- fc1&#45;&gt;flatten0 -->\r\n",
       "<g id=\"edge2\" class=\"edge\"><title>fc1&#45;&gt;flatten0</title>\r\n",
       "<path fill=\"none\" stroke=\"black\" d=\"M47,-207.582C47,-194.284 47,-179.632 47,-167.297\"/>\r\n",
       "<polygon fill=\"black\" stroke=\"black\" points=\"47,-217.887 42.5001,-207.887 47,-212.887 47.0001,-207.887 47.0001,-207.887 47.0001,-207.887 47,-212.887 51.5001,-207.887 47,-217.887 47,-217.887\"/>\r\n",
       "<text text-anchor=\"middle\" x=\"57.5\" y=\"-188.8\" font-family=\"Times New Roman,serif\" font-size=\"14.00\">784</text>\r\n",
       "</g>\r\n",
       "<!-- relu1 -->\r\n",
       "<g id=\"node4\" class=\"node\"><title>relu1</title>\r\n",
       "<polygon fill=\"#ffffb3\" stroke=\"black\" points=\"94,-385 -7.10543e-015,-385 -7.10543e-015,-327 94,-327 94,-385\"/>\r\n",
       "<text text-anchor=\"middle\" x=\"47\" y=\"-359.8\" font-family=\"Times New Roman,serif\" font-size=\"14.00\">Activation</text>\r\n",
       "<text text-anchor=\"middle\" x=\"47\" y=\"-344.8\" font-family=\"Times New Roman,serif\" font-size=\"14.00\">relu</text>\r\n",
       "</g>\r\n",
       "<!-- relu1&#45;&gt;fc1 -->\r\n",
       "<g id=\"edge3\" class=\"edge\"><title>relu1&#45;&gt;fc1</title>\r\n",
       "<path fill=\"none\" stroke=\"black\" d=\"M47,-316.582C47,-303.284 47,-288.632 47,-276.297\"/>\r\n",
       "<polygon fill=\"black\" stroke=\"black\" points=\"47,-326.887 42.5001,-316.887 47,-321.887 47.0001,-316.887 47.0001,-316.887 47.0001,-316.887 47,-321.887 51.5001,-316.887 47,-326.887 47,-326.887\"/>\r\n",
       "<text text-anchor=\"middle\" x=\"57.5\" y=\"-297.8\" font-family=\"Times New Roman,serif\" font-size=\"14.00\">128</text>\r\n",
       "</g>\r\n",
       "<!-- fc2 -->\r\n",
       "<g id=\"node5\" class=\"node\"><title>fc2</title>\r\n",
       "<polygon fill=\"#fb8072\" stroke=\"black\" points=\"94,-494 -7.10543e-015,-494 -7.10543e-015,-436 94,-436 94,-494\"/>\r\n",
       "<text text-anchor=\"middle\" x=\"47\" y=\"-468.8\" font-family=\"Times New Roman,serif\" font-size=\"14.00\">FullyConnected</text>\r\n",
       "<text text-anchor=\"middle\" x=\"47\" y=\"-453.8\" font-family=\"Times New Roman,serif\" font-size=\"14.00\">64</text>\r\n",
       "</g>\r\n",
       "<!-- fc2&#45;&gt;relu1 -->\r\n",
       "<g id=\"edge4\" class=\"edge\"><title>fc2&#45;&gt;relu1</title>\r\n",
       "<path fill=\"none\" stroke=\"black\" d=\"M47,-425.582C47,-412.284 47,-397.632 47,-385.297\"/>\r\n",
       "<polygon fill=\"black\" stroke=\"black\" points=\"47,-435.887 42.5001,-425.887 47,-430.887 47.0001,-425.887 47.0001,-425.887 47.0001,-425.887 47,-430.887 51.5001,-425.887 47,-435.887 47,-435.887\"/>\r\n",
       "<text text-anchor=\"middle\" x=\"57.5\" y=\"-406.8\" font-family=\"Times New Roman,serif\" font-size=\"14.00\">128</text>\r\n",
       "</g>\r\n",
       "<!-- relu2 -->\r\n",
       "<g id=\"node6\" class=\"node\"><title>relu2</title>\r\n",
       "<polygon fill=\"#ffffb3\" stroke=\"black\" points=\"94,-603 -7.10543e-015,-603 -7.10543e-015,-545 94,-545 94,-603\"/>\r\n",
       "<text text-anchor=\"middle\" x=\"47\" y=\"-577.8\" font-family=\"Times New Roman,serif\" font-size=\"14.00\">Activation</text>\r\n",
       "<text text-anchor=\"middle\" x=\"47\" y=\"-562.8\" font-family=\"Times New Roman,serif\" font-size=\"14.00\">relu</text>\r\n",
       "</g>\r\n",
       "<!-- relu2&#45;&gt;fc2 -->\r\n",
       "<g id=\"edge5\" class=\"edge\"><title>relu2&#45;&gt;fc2</title>\r\n",
       "<path fill=\"none\" stroke=\"black\" d=\"M47,-534.582C47,-521.284 47,-506.632 47,-494.297\"/>\r\n",
       "<polygon fill=\"black\" stroke=\"black\" points=\"47,-544.887 42.5001,-534.887 47,-539.887 47.0001,-534.887 47.0001,-534.887 47.0001,-534.887 47,-539.887 51.5001,-534.887 47,-544.887 47,-544.887\"/>\r\n",
       "<text text-anchor=\"middle\" x=\"54\" y=\"-515.8\" font-family=\"Times New Roman,serif\" font-size=\"14.00\">64</text>\r\n",
       "</g>\r\n",
       "<!-- fc3 -->\r\n",
       "<g id=\"node7\" class=\"node\"><title>fc3</title>\r\n",
       "<polygon fill=\"#fb8072\" stroke=\"black\" points=\"94,-712 -7.10543e-015,-712 -7.10543e-015,-654 94,-654 94,-712\"/>\r\n",
       "<text text-anchor=\"middle\" x=\"47\" y=\"-686.8\" font-family=\"Times New Roman,serif\" font-size=\"14.00\">FullyConnected</text>\r\n",
       "<text text-anchor=\"middle\" x=\"47\" y=\"-671.8\" font-family=\"Times New Roman,serif\" font-size=\"14.00\">10</text>\r\n",
       "</g>\r\n",
       "<!-- fc3&#45;&gt;relu2 -->\r\n",
       "<g id=\"edge6\" class=\"edge\"><title>fc3&#45;&gt;relu2</title>\r\n",
       "<path fill=\"none\" stroke=\"black\" d=\"M47,-643.582C47,-630.284 47,-615.632 47,-603.297\"/>\r\n",
       "<polygon fill=\"black\" stroke=\"black\" points=\"47,-653.887 42.5001,-643.887 47,-648.887 47.0001,-643.887 47.0001,-643.887 47.0001,-643.887 47,-648.887 51.5001,-643.887 47,-653.887 47,-653.887\"/>\r\n",
       "<text text-anchor=\"middle\" x=\"54\" y=\"-624.8\" font-family=\"Times New Roman,serif\" font-size=\"14.00\">64</text>\r\n",
       "</g>\r\n",
       "<!-- softmax_label -->\r\n",
       "<g id=\"node8\" class=\"node\"><title>softmax_label</title>\r\n",
       "<ellipse fill=\"#8dd3c7\" stroke=\"black\" cx=\"159\" cy=\"-683\" rx=\"47\" ry=\"29\"/>\r\n",
       "<text text-anchor=\"middle\" x=\"159\" y=\"-679.3\" font-family=\"Times New Roman,serif\" font-size=\"14.00\">softmax_label</text>\r\n",
       "</g>\r\n",
       "<!-- softmax -->\r\n",
       "<g id=\"node9\" class=\"node\"><title>softmax</title>\r\n",
       "<polygon fill=\"#fccde5\" stroke=\"black\" points=\"170,-821 76,-821 76,-763 170,-763 170,-821\"/>\r\n",
       "<text text-anchor=\"middle\" x=\"123\" y=\"-788.3\" font-family=\"Times New Roman,serif\" font-size=\"14.00\">softmax</text>\r\n",
       "</g>\r\n",
       "<!-- softmax&#45;&gt;fc3 -->\r\n",
       "<g id=\"edge7\" class=\"edge\"><title>softmax&#45;&gt;fc3</title>\r\n",
       "<path fill=\"none\" stroke=\"black\" d=\"M97.1082,-754.547C87.3017,-740.741 76.2938,-725.243 67.0986,-712.297\"/>\r\n",
       "<polygon fill=\"black\" stroke=\"black\" points=\"103.032,-762.887 93.5724,-757.34 100.137,-758.811 97.2411,-754.734 97.2411,-754.734 97.2411,-754.734 100.137,-758.811 100.91,-752.128 103.032,-762.887 103.032,-762.887\"/>\r\n",
       "<text text-anchor=\"middle\" x=\"97\" y=\"-733.8\" font-family=\"Times New Roman,serif\" font-size=\"14.00\">10</text>\r\n",
       "</g>\r\n",
       "<!-- softmax&#45;&gt;softmax_label -->\r\n",
       "<g id=\"edge8\" class=\"edge\"><title>softmax&#45;&gt;softmax_label</title>\r\n",
       "<path fill=\"none\" stroke=\"black\" d=\"M135.713,-753.215C140.333,-739.483 145.463,-724.236 149.729,-711.555\"/>\r\n",
       "<polygon fill=\"black\" stroke=\"black\" points=\"132.459,-762.887 131.382,-751.974 134.053,-758.148 135.647,-753.409 135.647,-753.409 135.647,-753.409 134.053,-758.148 139.913,-754.844 132.459,-762.887 132.459,-762.887\"/>\r\n",
       "</g>\r\n",
       "</g>\r\n",
       "</svg>\r\n"
      ],
      "text/plain": [
       "<graphviz.dot.Digraph at 0x1e94843cd68>"
      ]
     },
     "execution_count": 4,
     "metadata": {},
     "output_type": "execute_result"
    }
   ],
   "source": [
    "# Create a place holder variable for the input data\n",
    "data = mx.sym.Variable('data')\n",
    "# Flatten the data from 4-D shape (batch_size, num_channel, width, height) \n",
    "# into 2-D (batch_size, num_channel*width*height)\n",
    "data = mx.sym.Flatten(data=data)\n",
    "\n",
    "# The first fully-connected layer\n",
    "fc1  = mx.sym.FullyConnected(data=data, name='fc1', num_hidden=128)\n",
    "# Apply relu to the output of the first fully-connnected layer\n",
    "act1 = mx.sym.Activation(data=fc1, name='relu1', act_type=\"relu\")\n",
    "\n",
    "# The second fully-connected layer and the according activation function\n",
    "fc2  = mx.sym.FullyConnected(data=act1, name='fc2', num_hidden = 64)\n",
    "act2 = mx.sym.Activation(data=fc2, name='relu2', act_type=\"relu\")\n",
    "\n",
    "# The thrid fully-connected layer, note that the hidden size should be 10, which is the number of unique digits\n",
    "fc3  = mx.sym.FullyConnected(data=act2, name='fc3', num_hidden=10)\n",
    "# The softmax and loss layer\n",
    "mlp  = mx.sym.SoftmaxOutput(data=fc3, name='softmax')\n",
    "\n",
    "# We visualize the network structure with output size (the batch_size is ignored.)\n",
    "shape = {\"data\" : (batch_size, 1, 28, 28)}\n",
    "mx.viz.plot_network(symbol=mlp, shape=shape)"
   ]
  },
  {
   "cell_type": "markdown",
   "metadata": {},
   "source": [
    "Now both the network definition and data iterators are ready. We can start training. "
   ]
  },
  {
   "cell_type": "code",
   "execution_count": 5,
   "metadata": {
    "collapsed": false,
    "scrolled": false
   },
   "outputs": [
    {
     "name": "stderr",
     "output_type": "stream",
     "text": [
      "C:\\Users\\tanw\\Anaconda2\\envs\\py35\\lib\\site-packages\\jupyter_client\\jsonutil.py:67: DeprecationWarning: Interpreting naive datetime as local 2017-09-17 00:24:42.348000. Please add timezone info to timestamps.\n",
      "  new_obj[k] = extract_dates(v)\n",
      "C:\\Users\\tanw\\Anaconda2\\envs\\py35\\lib\\site-packages\\ipykernel\\__main__.py:8: DeprecationWarning: \u001b[91mmxnet.model.FeedForward has been deprecated. Please use mxnet.mod.Module instead.\u001b[0m\n",
      "C:\\Users\\tanw\\Anaconda2\\envs\\py35\\lib\\site-packages\\mxnet\\model.py:547: DeprecationWarning: \u001b[91mCalling initializer with init(str, NDArray) has been deprecated.please use init(mx.init.InitDesc(...), NDArray) instead.\u001b[0m\n",
      "  self.initializer(k, v)\n",
      "INFO:root:Start training with [cpu(0)]\n",
      "INFO:root:Epoch[0] Batch [200]\tSpeed: 41069.67 samples/sec\taccuracy=0.111700\n",
      "INFO:root:Epoch[0] Batch [400]\tSpeed: 43173.88 samples/sec\taccuracy=0.111650\n",
      "INFO:root:Epoch[0] Batch [600]\tSpeed: 42569.34 samples/sec\taccuracy=0.200100\n",
      "INFO:root:Epoch[0] Resetting Data Iterator\n",
      "INFO:root:Epoch[0] Time cost=1.444\n",
      "INFO:root:Epoch[0] Validation-accuracy=0.288400\n",
      "INFO:root:Epoch[1] Batch [200]\tSpeed: 41807.98 samples/sec\taccuracy=0.553000\n",
      "INFO:root:Epoch[1] Batch [400]\tSpeed: 35597.56 samples/sec\taccuracy=0.787450\n",
      "INFO:root:Epoch[1] Batch [600]\tSpeed: 39914.45 samples/sec\taccuracy=0.839800\n",
      "INFO:root:Epoch[1] Resetting Data Iterator\n",
      "INFO:root:Epoch[1] Time cost=1.546\n",
      "INFO:root:Epoch[1] Validation-accuracy=0.855000\n",
      "INFO:root:Epoch[2] Batch [200]\tSpeed: 43348.73 samples/sec\taccuracy=0.870800\n",
      "INFO:root:Epoch[2] Batch [400]\tSpeed: 42590.41 samples/sec\taccuracy=0.894350\n",
      "INFO:root:Epoch[2] Batch [600]\tSpeed: 43191.33 samples/sec\taccuracy=0.913850\n",
      "INFO:root:Epoch[2] Resetting Data Iterator\n",
      "INFO:root:Epoch[2] Time cost=1.408\n",
      "INFO:root:Epoch[2] Validation-accuracy=0.914900\n",
      "INFO:root:Epoch[3] Batch [200]\tSpeed: 43214.36 samples/sec\taccuracy=0.922250\n",
      "INFO:root:Epoch[3] Batch [400]\tSpeed: 38699.18 samples/sec\taccuracy=0.930750\n",
      "INFO:root:Epoch[3] Batch [600]\tSpeed: 41264.65 samples/sec\taccuracy=0.940550\n",
      "INFO:root:Epoch[3] Resetting Data Iterator\n",
      "INFO:root:Epoch[3] Time cost=1.471\n",
      "INFO:root:Epoch[3] Validation-accuracy=0.940100\n",
      "INFO:root:Epoch[4] Batch [200]\tSpeed: 42844.90 samples/sec\taccuracy=0.944300\n",
      "INFO:root:Epoch[4] Batch [400]\tSpeed: 41507.99 samples/sec\taccuracy=0.948500\n",
      "INFO:root:Epoch[4] Batch [600]\tSpeed: 41990.66 samples/sec\taccuracy=0.954850\n",
      "INFO:root:Epoch[4] Resetting Data Iterator\n",
      "INFO:root:Epoch[4] Time cost=1.432\n",
      "INFO:root:Epoch[4] Validation-accuracy=0.952200\n",
      "INFO:root:Epoch[5] Batch [200]\tSpeed: 40547.30 samples/sec\taccuracy=0.954700\n",
      "INFO:root:Epoch[5] Batch [400]\tSpeed: 41555.86 samples/sec\taccuracy=0.959000\n",
      "INFO:root:Epoch[5] Batch [600]\tSpeed: 42884.31 samples/sec\taccuracy=0.962750\n",
      "INFO:root:Epoch[5] Resetting Data Iterator\n",
      "INFO:root:Epoch[5] Time cost=1.450\n",
      "INFO:root:Epoch[5] Validation-accuracy=0.958700\n",
      "INFO:root:Epoch[6] Batch [200]\tSpeed: 34301.91 samples/sec\taccuracy=0.963650\n",
      "INFO:root:Epoch[6] Batch [400]\tSpeed: 28475.11 samples/sec\taccuracy=0.965700\n",
      "INFO:root:Epoch[6] Batch [600]\tSpeed: 41424.90 samples/sec\taccuracy=0.968750\n",
      "INFO:root:Epoch[6] Resetting Data Iterator\n",
      "INFO:root:Epoch[6] Time cost=1.778\n",
      "INFO:root:Epoch[6] Validation-accuracy=0.962300\n",
      "INFO:root:Epoch[7] Batch [200]\tSpeed: 42186.26 samples/sec\taccuracy=0.968300\n",
      "INFO:root:Epoch[7] Batch [400]\tSpeed: 41231.59 samples/sec\taccuracy=0.970500\n",
      "INFO:root:Epoch[7] Batch [600]\tSpeed: 41102.31 samples/sec\taccuracy=0.972750\n",
      "INFO:root:Epoch[7] Resetting Data Iterator\n",
      "INFO:root:Epoch[7] Time cost=1.457\n",
      "INFO:root:Epoch[7] Validation-accuracy=0.964400\n",
      "INFO:root:Epoch[8] Batch [200]\tSpeed: 42366.88 samples/sec\taccuracy=0.972550\n",
      "INFO:root:Epoch[8] Batch [400]\tSpeed: 41125.10 samples/sec\taccuracy=0.974950\n",
      "INFO:root:Epoch[8] Batch [600]\tSpeed: 42639.64 samples/sec\taccuracy=0.976600\n",
      "INFO:root:Epoch[8] Resetting Data Iterator\n",
      "INFO:root:Epoch[8] Time cost=1.439\n",
      "INFO:root:Epoch[8] Validation-accuracy=0.966000\n",
      "INFO:root:Epoch[9] Batch [200]\tSpeed: 43275.27 samples/sec\taccuracy=0.976350\n",
      "INFO:root:Epoch[9] Batch [400]\tSpeed: 35157.07 samples/sec\taccuracy=0.977950\n",
      "INFO:root:Epoch[9] Batch [600]\tSpeed: 37364.27 samples/sec\taccuracy=0.980000\n",
      "INFO:root:Epoch[9] Resetting Data Iterator\n",
      "INFO:root:Epoch[9] Time cost=1.578\n",
      "INFO:root:Epoch[9] Validation-accuracy=0.968800\n"
     ]
    }
   ],
   "source": [
    "# @@@ AUTOTEST_OUTPUT_IGNORED_CELL\n",
    "import logging\n",
    "logging.getLogger().setLevel(logging.DEBUG)\n",
    "\n",
    "model = mx.model.FeedForward(\n",
    "    symbol = mlp,       # network structure\n",
    "    num_epoch = 10,     # number of data passes for training \n",
    "    learning_rate = 0.1 # learning rate of SGD \n",
    ")\n",
    "model.fit(\n",
    "    X=train_iter,       # training data\n",
    "    eval_data=val_iter, # validation data\n",
    "    batch_end_callback = mx.callback.Speedometer(batch_size, 200) # output progress for each 200 data batches\n",
    ")"
   ]
  },
  {
   "cell_type": "markdown",
   "metadata": {
    "collapsed": true
   },
   "source": [
    "After training is done, we can predict a single image. "
   ]
  },
  {
   "cell_type": "code",
   "execution_count": 6,
   "metadata": {
    "collapsed": false
   },
   "outputs": [
    {
     "name": "stderr",
     "output_type": "stream",
     "text": [
      "C:\\Users\\tanw\\Anaconda2\\envs\\py35\\lib\\site-packages\\jupyter_client\\jsonutil.py:67: DeprecationWarning: Interpreting naive datetime as local 2017-09-17 00:25:42.018000. Please add timezone info to timestamps.\n",
      "  new_obj[k] = extract_dates(v)\n"
     ]
    },
    {
     "data": {
      "image/png": "[encoded data removed]",
      "text/plain": [
       "<matplotlib.figure.Figure at 0x1e94843c828>"
      ]
     },
     "metadata": {},
     "output_type": "display_data"
    },
    {
     "name": "stdout",
     "output_type": "stream",
     "text": [
      "Classified as 7 with probability 0.999554\n"
     ]
    }
   ],
   "source": [
    "# @@@ AUTOTEST_OUTPUT_IGNORED_CELL\n",
    "plt.imshow(val_img[0], cmap='Greys_r')\n",
    "plt.axis('off')\n",
    "plt.show()\n",
    "prob = model.predict(val_img[0:1].astype(np.float32)/255)[0]\n",
    "assert max(prob) > 0.99, \"Low prediction accuracy.\"\n",
    "print('Classified as %d with probability %f' % (prob.argmax(), max(prob)))"
   ]
  },
  {
   "cell_type": "markdown",
   "metadata": {},
   "source": [
    "We can also evaluate the accuracy given a data iterator. "
   ]
  },
  {
   "cell_type": "code",
   "execution_count": 7,
   "metadata": {
    "collapsed": false
   },
   "outputs": [
    {
     "name": "stdout",
     "output_type": "stream",
     "text": [
      "Validation accuracy: 96.880000%\n"
     ]
    },
    {
     "name": "stderr",
     "output_type": "stream",
     "text": [
      "C:\\Users\\tanw\\Anaconda2\\envs\\py35\\lib\\site-packages\\jupyter_client\\jsonutil.py:67: DeprecationWarning: Interpreting naive datetime as local 2017-09-17 00:26:22.357000. Please add timezone info to timestamps.\n",
      "  new_obj[k] = extract_dates(v)\n"
     ]
    }
   ],
   "source": [
    "# @@@ AUTOTEST_OUTPUT_IGNORED_CELL\n",
    "valid_acc = model.score(val_iter)\n",
    "print('Validation accuracy: %f%%' % (valid_acc *100,))\n",
    "assert valid_acc > 0.95, \"Low validation accuracy.\""
   ]
  },
  {
   "cell_type": "markdown",
   "metadata": {},
   "source": [
    "Even more, we can recognizes the digit written on the below box. "
   ]
  },
  {
   "cell_type": "code",
   "execution_count": 28,
   "metadata": {
    "collapsed": false,
    "scrolled": true
   },
   "outputs": [
    {
     "name": "stderr",
     "output_type": "stream",
     "text": [
      "C:\\Users\\tanw\\Anaconda2\\envs\\py35\\lib\\site-packages\\jupyter_client\\jsonutil.py:67: DeprecationWarning: Interpreting naive datetime as local 2017-09-17 01:34:24.423000. Please add timezone info to timestamps.\n",
      "  new_obj[k] = extract_dates(v)\n"
     ]
    },
    {
     "data": {
      "text/html": [
       "<html>\n",
       "<head>\n",
       "    <meta charset=\"UTF-8\"> \n",
       "    <link rel=\"stylesheet\" type=\"text/css\" href=\"style.css\">\n",
       "</head>\n",
       "<body>\n",
       "    <header>\n",
       "        <h1>Digit recognition</h1>\n",
       "    </header>\n",
       "    <article id=\"interactive\">\n",
       "        <div class=\"container\">\n",
       "            <div id=\"canvas\">\n",
       "                <canvas id=\"drawsurface\"></canvas>\n",
       "                <canvas id=\"bounding-box\"></canvas>\n",
       "            </div>\n",
       "            <section id=\"results\">\n",
       "                <h2>Results: <span id=\"classification\"></span></h2>\n",
       "                <canvas id=\"chart\" width=\"238\", height=\"90\"></canvas>\n",
       "                <input type=\"button\" id=\"clear\" value=\"Clear (c)\">\n",
       "            </section>\n",
       "        </div>\n",
       "    </article>\n",
       "    <div class=\"content\">\n",
       "    <article id=\"description\">\n",
       "        <h2>How does it work?</h2>\n",
       "        <p>The digit recognizer uses a trained neural network to recognize the digits. The network is trained with the famous <a href=\"http://yann.lecun.com/exdb/mnist/\">MNIST</a> dataset. Work in progress....</p>\n",
       "    </article>\n",
       "    </div>\n",
       "    \n",
       "</body>\n",
       "<script src=\"script.js\"></script>\n",
       "</html>\n"
      ],
      "text/plain": [
       "<IPython.core.display.HTML object>"
      ]
     },
     "execution_count": 28,
     "metadata": {},
     "output_type": "execute_result"
    }
   ],
   "source": [
    "from IPython.display import HTML\n",
    "import cv2\n",
    "import numpy as np\n",
    "\n",
    "def classify(img):\n",
    "    img = img[len('data:image/png;base64,'):].decode('base64')\n",
    "    img = cv2.imdecode(np.fromstring(img, np.uint8), -1)\n",
    "    img = cv2.resize(img[:,:,3], (28,28))\n",
    "    img = img.astype(np.float32).reshape((1,1,28,28))/255.0\n",
    "    return model.predict(img)[0].argmax()\n",
    "\n",
    "'''\n",
    "To see the model in action, run the demo notebook at\n",
    "https://github.com/dmlc/mxnet-notebooks/blob/master/python/tutorials/mnist.ipynb.\n",
    "'''\n",
    "HTML(filename=\"mnist_demo.html\")"
   ]
  },
  {
   "cell_type": "markdown",
   "metadata": {},
   "source": [
    "## Convolutional Neural Networks\n",
    "\n",
    "Note that the previous fully-connected layer simply reshapes the image into a vector during training. It ignores the spatial information that pixels are correlated on both horizontal and vertical dimensions. The convolutional layer aims to improve this drawback by using a more structural weight $W$. Instead of simply matrix-matrix multiplication, it uses 2-D convolution to obtain the output. "
   ]
  },
  {
   "cell_type": "markdown",
   "metadata": {},
   "source": [
    "<img src=\"https://thatindiandude.github.io/images/conv.png\" style=\"height: 75%; width: 75%;\">"
   ]
  },
  {
   "cell_type": "markdown",
   "metadata": {},
   "source": [
    "We can also have multiple feature maps, each with their own weight matrices, to capture different features: \n",
    "<img src=\"https://thatindiandude.github.io/images/filters.png\" style=\"height: 75%; width: 75%;\">"
   ]
  },
  {
   "cell_type": "markdown",
   "metadata": {},
   "source": [
    "Besides the convolutional layer, another major change of the convolutional neural network is the adding of pooling layers. A pooling layer reduce a $n\\times m$ (often called kernal size) image patch into a single value to make the network less sensitive to the spatial location.\n",
    "\n",
    "<img src=\"https://thatindiandude.github.io/images/pooling.png\" style=\"height: 75%; width: 75%;\">"
   ]
  },
  {
   "cell_type": "code",
   "execution_count": 29,
   "metadata": {
    "collapsed": true
   },
   "outputs": [],
   "source": [
    "data = mx.symbol.Variable('data')\n",
    "# first conv layer\n",
    "conv1 = mx.sym.Convolution(data=data, kernel=(5,5), num_filter=20)\n",
    "tanh1 = mx.sym.Activation(data=conv1, act_type=\"tanh\")\n",
    "pool1 = mx.sym.Pooling(data=tanh1, pool_type=\"max\", kernel=(2,2), stride=(2,2))\n",
    "# second conv layer\n",
    "conv2 = mx.sym.Convolution(data=pool1, kernel=(5,5), num_filter=50)\n",
    "tanh2 = mx.sym.Activation(data=conv2, act_type=\"tanh\")\n",
    "pool2 = mx.sym.Pooling(data=tanh2, pool_type=\"max\", kernel=(2,2), stride=(2,2))\n",
    "# first fullc layer\n",
    "flatten = mx.sym.Flatten(data=pool2)\n",
    "fc1 = mx.symbol.FullyConnected(data=flatten, num_hidden=500)\n",
    "tanh3 = mx.sym.Activation(data=fc1, act_type=\"tanh\")\n",
    "# second fullc\n",
    "fc2 = mx.sym.FullyConnected(data=tanh3, num_hidden=10)\n",
    "# softmax loss\n",
    "lenet = mx.sym.SoftmaxOutput(data=fc2, name='softmax')\n",
    "#mx.viz.plot_network(symbol=lenet, shape=shape)"
   ]
  },
  {
   "cell_type": "markdown",
   "metadata": {},
   "source": [
    "Note that LeNet is more complex than the previous multilayer perceptron, so we use GPU instead of CPU for training. "
   ]
  },
  {
   "cell_type": "code",
   "execution_count": 30,
   "metadata": {
    "collapsed": false,
    "scrolled": true
   },
   "outputs": [
    {
     "name": "stderr",
     "output_type": "stream",
     "text": [
      "INFO:root:Start training with [cpu(0)]\n",
      "INFO:root:Epoch[0] Batch [200]\tSpeed: 858.85 samples/sec\taccuracy=0.114750\n",
      "INFO:root:Epoch[0] Batch [400]\tSpeed: 800.47 samples/sec\taccuracy=0.108300\n",
      "INFO:root:Epoch[0] Batch [600]\tSpeed: 769.06 samples/sec\taccuracy=0.112900\n",
      "INFO:root:Epoch[0] Resetting Data Iterator\n",
      "INFO:root:Epoch[0] Time cost=74.381\n",
      "INFO:root:Epoch[0] Validation-accuracy=0.113500\n",
      "INFO:root:Epoch[1] Batch [200]\tSpeed: 723.19 samples/sec\taccuracy=0.161900\n",
      "INFO:root:Epoch[1] Batch [400]\tSpeed: 806.61 samples/sec\taccuracy=0.816550\n",
      "INFO:root:Epoch[1] Batch [600]\tSpeed: 859.73 samples/sec\taccuracy=0.921400\n",
      "INFO:root:Epoch[1] Resetting Data Iterator\n",
      "INFO:root:Epoch[1] Time cost=75.797\n",
      "INFO:root:Epoch[1] Validation-accuracy=0.939500\n",
      "INFO:root:Epoch[2] Batch [200]\tSpeed: 873.28 samples/sec\taccuracy=0.947350\n",
      "INFO:root:Epoch[2] Batch [400]\tSpeed: 845.27 samples/sec\taccuracy=0.957200\n",
      "INFO:root:Epoch[2] Batch [600]\tSpeed: 752.30 samples/sec\taccuracy=0.966600\n",
      "INFO:root:Epoch[2] Resetting Data Iterator\n",
      "INFO:root:Epoch[2] Time cost=73.202\n",
      "INFO:root:Epoch[2] Validation-accuracy=0.970800\n",
      "INFO:root:Epoch[3] Batch [200]\tSpeed: 899.80 samples/sec\taccuracy=0.971600\n",
      "INFO:root:Epoch[3] Batch [400]\tSpeed: 837.15 samples/sec\taccuracy=0.972950\n",
      "INFO:root:Epoch[3] Batch [600]\tSpeed: 912.38 samples/sec\taccuracy=0.975850\n",
      "INFO:root:Epoch[3] Resetting Data Iterator\n",
      "INFO:root:Epoch[3] Time cost=68.111\n",
      "INFO:root:Epoch[3] Validation-accuracy=0.978200\n",
      "INFO:root:Epoch[4] Batch [200]\tSpeed: 934.07 samples/sec\taccuracy=0.980000\n",
      "INFO:root:Epoch[4] Batch [400]\tSpeed: 823.82 samples/sec\taccuracy=0.980000\n",
      "INFO:root:Epoch[4] Batch [600]\tSpeed: 850.67 samples/sec\taccuracy=0.981050\n",
      "INFO:root:Epoch[4] Resetting Data Iterator\n",
      "INFO:root:Epoch[4] Time cost=69.262\n",
      "INFO:root:Epoch[4] Validation-accuracy=0.981500\n",
      "INFO:root:Epoch[5] Batch [200]\tSpeed: 872.89 samples/sec\taccuracy=0.983200\n",
      "INFO:root:Epoch[5] Batch [400]\tSpeed: 784.90 samples/sec\taccuracy=0.983850\n",
      "INFO:root:Epoch[5] Batch [600]\tSpeed: 907.97 samples/sec\taccuracy=0.984650\n",
      "INFO:root:Epoch[5] Resetting Data Iterator\n",
      "INFO:root:Epoch[5] Time cost=70.477\n",
      "INFO:root:Epoch[5] Validation-accuracy=0.983100\n",
      "INFO:root:Epoch[6] Batch [200]\tSpeed: 906.59 samples/sec\taccuracy=0.985250\n",
      "INFO:root:Epoch[6] Batch [400]\tSpeed: 845.59 samples/sec\taccuracy=0.985550\n",
      "INFO:root:Epoch[6] Batch [600]\tSpeed: 738.75 samples/sec\taccuracy=0.987400\n",
      "INFO:root:Epoch[6] Resetting Data Iterator\n",
      "INFO:root:Epoch[6] Time cost=72.864\n",
      "INFO:root:Epoch[6] Validation-accuracy=0.983500\n",
      "INFO:root:Epoch[7] Batch [200]\tSpeed: 823.11 samples/sec\taccuracy=0.987300\n",
      "INFO:root:Epoch[7] Batch [400]\tSpeed: 874.53 samples/sec\taccuracy=0.987850\n",
      "INFO:root:Epoch[7] Batch [600]\tSpeed: 872.28 samples/sec\taccuracy=0.989050\n",
      "INFO:root:Epoch[7] Resetting Data Iterator\n",
      "INFO:root:Epoch[7] Time cost=70.183\n",
      "INFO:root:Epoch[7] Validation-accuracy=0.985200\n",
      "INFO:root:Epoch[8] Batch [200]\tSpeed: 791.95 samples/sec\taccuracy=0.988950\n",
      "INFO:root:Epoch[8] Batch [400]\tSpeed: 809.69 samples/sec\taccuracy=0.989950\n",
      "INFO:root:Epoch[8] Batch [600]\tSpeed: 894.47 samples/sec\taccuracy=0.990450\n",
      "INFO:root:Epoch[8] Resetting Data Iterator\n",
      "INFO:root:Epoch[8] Time cost=72.377\n",
      "INFO:root:Epoch[8] Validation-accuracy=0.986200\n",
      "INFO:root:Epoch[9] Batch [200]\tSpeed: 902.63 samples/sec\taccuracy=0.990400\n",
      "INFO:root:Epoch[9] Batch [400]\tSpeed: 814.62 samples/sec\taccuracy=0.991250\n",
      "INFO:root:Epoch[9] Batch [600]\tSpeed: 745.17 samples/sec\taccuracy=0.991900\n",
      "INFO:root:Epoch[9] Resetting Data Iterator\n",
      "INFO:root:Epoch[9] Time cost=73.607\n",
      "INFO:root:Epoch[9] Validation-accuracy=0.986600\n"
     ]
    }
   ],
   "source": [
    "# @@@ AUTOTEST_OUTPUT_IGNORED_CELL\n",
    "model = mx.model.FeedForward(\n",
    "    #ctx = mx.gpu(0),     # use GPU 0 for training, others are same as before\n",
    "    symbol = lenet,       \n",
    "    num_epoch = 10,     \n",
    "    learning_rate = 0.1)\n",
    "model.fit(\n",
    "    X=train_iter,  \n",
    "    eval_data=val_iter, \n",
    "    batch_end_callback = mx.callback.Speedometer(batch_size, 200)\n",
    ") \n",
    "assert model.score(val_iter) > 0.98, \"Low validation accuracy.\""
   ]
  },
  {
   "cell_type": "markdown",
   "metadata": {},
   "source": [
    "Note that, with the same hyper-parameters, LeNet achieves 98.7% validation accuracy, which improves on the previous multilayer perceptron accuracy of 96.6%.\n",
    "\n",
    "Because we rewrite the model parameters in `mod`, now we can try the previous digit recognition box again to check if or not the new CNN model improves the classification accuracy."
   ]
  },
  {
   "cell_type": "code",
   "execution_count": null,
   "metadata": {
    "collapsed": true
   },
   "outputs": [],
   "source": []
  },
  {
   "cell_type": "code",
   "execution_count": null,
   "metadata": {
    "collapsed": true
   },
   "outputs": [],
   "source": []
  }
 ],
 "metadata": {
  "anaconda-cloud": {},
  "kernelspec": {
   "display_name": "Python [conda env:py35]",
   "language": "python",
   "name": "conda-env-py35-py"
  },
  "language_info": {
   "codemirror_mode": {
    "name": "ipython",
    "version": 3
   },
   "file_extension": ".py",
   "mimetype": "text/x-python",
   "name": "python",
   "nbconvert_exporter": "python",
   "pygments_lexer": "ipython3",
   "version": "3.5.3"
  }
 },
 "nbformat": 4,
 "nbformat_minor": 1
}
