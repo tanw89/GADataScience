{
 "cells": [
  {
   "cell_type": "markdown",
   "metadata": {},
   "source": [
    "# Brand Recommendation Engine"
   ]
  },
  {
   "cell_type": "code",
   "execution_count": 1,
   "metadata": {
    "collapsed": true
   },
   "outputs": [],
   "source": [
    "import pandas as pd\n",
    "df = pd.read_csv(\"https://raw.githubusercontent.com/ajschumacher/gadsdata/master/user_brand.csv\", header=None)"
   ]
  },
  {
   "cell_type": "markdown",
   "metadata": {},
   "source": [
    "### Make Data into Sparse Matrix"
   ]
  },
  {
   "cell_type": "code",
   "execution_count": 2,
   "metadata": {
    "collapsed": false
   },
   "outputs": [
    {
     "data": {
      "text/html": [
       "<div>\n",
       "<style>\n",
       "    .dataframe thead tr:only-child th {\n",
       "        text-align: right;\n",
       "    }\n",
       "\n",
       "    .dataframe thead th {\n",
       "        text-align: left;\n",
       "    }\n",
       "\n",
       "    .dataframe tbody tr th {\n",
       "        vertical-align: top;\n",
       "    }\n",
       "</style>\n",
       "<table border=\"1\" class=\"dataframe\">\n",
       "  <thead>\n",
       "    <tr style=\"text-align: right;\">\n",
       "      <th></th>\n",
       "      <th>user</th>\n",
       "      <th>brand</th>\n",
       "    </tr>\n",
       "  </thead>\n",
       "  <tbody>\n",
       "    <tr>\n",
       "      <th>0</th>\n",
       "      <td>80002</td>\n",
       "      <td>Target</td>\n",
       "    </tr>\n",
       "    <tr>\n",
       "      <th>1</th>\n",
       "      <td>80002</td>\n",
       "      <td>Home Depot</td>\n",
       "    </tr>\n",
       "    <tr>\n",
       "      <th>2</th>\n",
       "      <td>80010</td>\n",
       "      <td>Levi's</td>\n",
       "    </tr>\n",
       "    <tr>\n",
       "      <th>3</th>\n",
       "      <td>80010</td>\n",
       "      <td>Puma</td>\n",
       "    </tr>\n",
       "    <tr>\n",
       "      <th>4</th>\n",
       "      <td>80010</td>\n",
       "      <td>Cuisinart</td>\n",
       "    </tr>\n",
       "  </tbody>\n",
       "</table>\n",
       "</div>"
      ],
      "text/plain": [
       "    user       brand\n",
       "0  80002      Target\n",
       "1  80002  Home Depot\n",
       "2  80010      Levi's\n",
       "3  80010        Puma\n",
       "4  80010   Cuisinart"
      ]
     },
     "execution_count": 2,
     "metadata": {},
     "output_type": "execute_result"
    }
   ],
   "source": [
    "df.columns = ['user','brand']\n",
    "df.head()"
   ]
  },
  {
   "cell_type": "code",
   "execution_count": 3,
   "metadata": {
    "collapsed": true
   },
   "outputs": [],
   "source": [
    "import numpy as np\n",
    "brands, unique_brand_map = np.unique(df['brand'], return_inverse=True)\n",
    "users, unique_user_map = np.unique(df['user'], return_inverse=True)"
   ]
  },
  {
   "cell_type": "code",
   "execution_count": 4,
   "metadata": {
    "collapsed": true
   },
   "outputs": [],
   "source": [
    "data = {}\n",
    "for h in unique_user_map:\n",
    "    data[h]=unique_brand_map[np.where(unique_user_map ==h)].tolist()"
   ]
  },
  {
   "cell_type": "code",
   "execution_count": 5,
   "metadata": {
    "collapsed": true
   },
   "outputs": [],
   "source": [
    "data2={}\n",
    "for h in data.keys():\n",
    "    data2[h]=[1 if i in data[h] else 0 for i in range(len(brands))]"
   ]
  },
  {
   "cell_type": "code",
   "execution_count": 6,
   "metadata": {
    "collapsed": true
   },
   "outputs": [],
   "source": [
    "matrix = pd.DataFrame(data2)"
   ]
  },
  {
   "cell_type": "code",
   "execution_count": 43,
   "metadata": {
    "collapsed": false
   },
   "outputs": [
    {
     "data": {
      "text/plain": [
       "(198, 3759)"
      ]
     },
     "execution_count": 43,
     "metadata": {},
     "output_type": "execute_result"
    }
   ],
   "source": [
    "matrix.shape"
   ]
  },
  {
   "cell_type": "markdown",
   "metadata": {},
   "source": []
  },
  {
   "cell_type": "code",
   "execution_count": 7,
   "metadata": {
    "collapsed": false
   },
   "outputs": [
    {
     "data": {
      "text/html": [
       "<div>\n",
       "<style>\n",
       "    .dataframe thead tr:only-child th {\n",
       "        text-align: right;\n",
       "    }\n",
       "\n",
       "    .dataframe thead th {\n",
       "        text-align: left;\n",
       "    }\n",
       "\n",
       "    .dataframe tbody tr th {\n",
       "        vertical-align: top;\n",
       "    }\n",
       "</style>\n",
       "<table border=\"1\" class=\"dataframe\">\n",
       "  <thead>\n",
       "    <tr style=\"text-align: right;\">\n",
       "      <th></th>\n",
       "      <th>0</th>\n",
       "      <th>1</th>\n",
       "    </tr>\n",
       "  </thead>\n",
       "  <tbody>\n",
       "    <tr>\n",
       "      <th>0</th>\n",
       "      <td>0</td>\n",
       "      <td>0</td>\n",
       "    </tr>\n",
       "    <tr>\n",
       "      <th>1</th>\n",
       "      <td>0</td>\n",
       "      <td>0</td>\n",
       "    </tr>\n",
       "    <tr>\n",
       "      <th>2</th>\n",
       "      <td>0</td>\n",
       "      <td>0</td>\n",
       "    </tr>\n",
       "    <tr>\n",
       "      <th>3</th>\n",
       "      <td>0</td>\n",
       "      <td>0</td>\n",
       "    </tr>\n",
       "    <tr>\n",
       "      <th>4</th>\n",
       "      <td>0</td>\n",
       "      <td>0</td>\n",
       "    </tr>\n",
       "  </tbody>\n",
       "</table>\n",
       "</div>"
      ],
      "text/plain": [
       "   0  1\n",
       "0  0  0\n",
       "1  0  0\n",
       "2  0  0\n",
       "3  0  0\n",
       "4  0  0"
      ]
     },
     "execution_count": 7,
     "metadata": {},
     "output_type": "execute_result"
    }
   ],
   "source": [
    "matrix[[0,1]].head(5)"
   ]
  },
  {
   "cell_type": "code",
   "execution_count": 8,
   "metadata": {
    "collapsed": true
   },
   "outputs": [],
   "source": [
    "#matrix.to_csv('/home/vagrant/notebooks/fall_2014_lessons/14_recommendation_engines/lab/brand_data_sparse.csv', index=0)"
   ]
  },
  {
   "cell_type": "code",
   "execution_count": 9,
   "metadata": {
    "collapsed": true
   },
   "outputs": [],
   "source": [
    "df = pd.read_csv('https://raw.githubusercontent.com/gads14-nyc/fall_2014_lessons/master/14_recommenders/brand_data_sparse.csv')"
   ]
  },
  {
   "cell_type": "code",
   "execution_count": null,
   "metadata": {
    "collapsed": true
   },
   "outputs": [],
   "source": []
  },
  {
   "cell_type": "code",
   "execution_count": 10,
   "metadata": {
    "collapsed": false
   },
   "outputs": [
    {
     "name": "stderr",
     "output_type": "stream",
     "text": [
      "/home/anthonyta/anaconda2/lib/python2.7/site-packages/ipykernel_launcher.py:1: DeprecationWarning: \n",
      ".ix is deprecated. Please use\n",
      ".loc for label based indexing or\n",
      ".iloc for positional indexing\n",
      "\n",
      "See the documentation here:\n",
      "http://pandas.pydata.org/pandas-docs/stable/indexing.html#deprecate_ix\n",
      "  \"\"\"Entry point for launching an IPython kernel.\n"
     ]
    }
   ],
   "source": [
    "similar = (df.ix[:,0]+df.ix[:,1])"
   ]
  },
  {
   "cell_type": "code",
   "execution_count": 11,
   "metadata": {
    "collapsed": false
   },
   "outputs": [
    {
     "data": {
      "text/plain": [
       "186"
      ]
     },
     "execution_count": 11,
     "metadata": {},
     "output_type": "execute_result"
    }
   ],
   "source": [
    "len(np.where(similar==0)[0])"
   ]
  },
  {
   "cell_type": "code",
   "execution_count": 12,
   "metadata": {
    "collapsed": true
   },
   "outputs": [],
   "source": [
    "def similiarity(row1,row2):\n",
    "    similar=(df.ix[:,row1]+df.ix[:,row2])\n",
    "    number_zeros = len(np.where(similar==0)[0])\n",
    "    number_ones = len(np.where(similar==1)[0])\n",
    "    number_twos =len(np.where(similar==2)[0])\n",
    "    return number_twos/float(number_ones+number_twos)\n",
    "    "
   ]
  },
  {
   "cell_type": "code",
   "execution_count": 13,
   "metadata": {
    "collapsed": false
   },
   "outputs": [
    {
     "data": {
      "text/plain": [
       "0.0"
      ]
     },
     "execution_count": 13,
     "metadata": {},
     "output_type": "execute_result"
    }
   ],
   "source": [
    "similiarity(0,1)"
   ]
  },
  {
   "cell_type": "code",
   "execution_count": 14,
   "metadata": {
    "collapsed": false
   },
   "outputs": [
    {
     "data": {
      "text/plain": [
       "0.1111111111111111"
      ]
     },
     "execution_count": 14,
     "metadata": {},
     "output_type": "execute_result"
    }
   ],
   "source": [
    "similiarity(1,5)"
   ]
  },
  {
   "cell_type": "code",
   "execution_count": 15,
   "metadata": {
    "collapsed": false
   },
   "outputs": [
    {
     "data": {
      "text/plain": [
       "1.0"
      ]
     },
     "execution_count": 15,
     "metadata": {},
     "output_type": "execute_result"
    }
   ],
   "source": [
    "similiarity(0,0)"
   ]
  },
  {
   "cell_type": "code",
   "execution_count": 16,
   "metadata": {
    "collapsed": true
   },
   "outputs": [],
   "source": [
    "#"
   ]
  },
  {
   "cell_type": "code",
   "execution_count": 17,
   "metadata": {
    "collapsed": false
   },
   "outputs": [
    {
     "name": "stdout",
     "output_type": "stream",
     "text": [
      "1.0\n",
      "0.0\n",
      "0.0666666666667\n",
      "0.5\n",
      "0.0\n",
      "0.0909090909091\n",
      "0.5\n",
      "0.125\n",
      "0.0\n",
      "0.0\n",
      "0.0\n",
      "1.0\n",
      "0.0434782608696\n",
      "0.0\n",
      "0.0\n",
      "0.111111111111\n",
      "0.0\n",
      "0.307692307692\n",
      "0.0\n",
      "0.0909090909091\n",
      "0.0666666666667\n",
      "0.0434782608696\n",
      "1.0\n",
      "0.2\n",
      "0.0\n",
      "0.263157894737\n",
      "0.0\n",
      "0.166666666667\n",
      "0.0\n",
      "0.0666666666667\n",
      "0.5\n",
      "0.0\n",
      "0.2\n",
      "1.0\n",
      "0.0\n",
      "0.0769230769231\n",
      "0.25\n",
      "0.222222222222\n",
      "0.0\n",
      "0.0\n",
      "0.0\n",
      "0.0\n",
      "0.0\n",
      "0.0\n",
      "1.0\n",
      "0.0\n",
      "0.0\n",
      "0.142857142857\n",
      "0.0\n",
      "0.0\n",
      "0.0909090909091\n",
      "0.111111111111\n",
      "0.263157894737\n",
      "0.0769230769231\n",
      "0.0\n",
      "1.0\n",
      "0.0\n",
      "0.133333333333\n",
      "0.0\n",
      "0.0909090909091\n",
      "0.5\n",
      "0.0\n",
      "0.0\n",
      "0.25\n",
      "0.0\n",
      "0.0\n",
      "1.0\n",
      "0.0\n",
      "0.0\n",
      "0.0\n",
      "0.125\n",
      "0.307692307692\n",
      "0.166666666667\n",
      "0.222222222222\n",
      "0.142857142857\n",
      "0.133333333333\n",
      "0.0\n",
      "1.0\n",
      "0.0\n",
      "0.125\n",
      "0.0\n",
      "0.0\n",
      "0.0\n",
      "0.0\n",
      "0.0\n",
      "0.0\n",
      "0.0\n",
      "0.0\n",
      "1.0\n",
      "0.0\n",
      "0.0\n",
      "0.0909090909091\n",
      "0.0666666666667\n",
      "0.0\n",
      "0.0\n",
      "0.0909090909091\n",
      "0.0\n",
      "0.125\n",
      "0.0\n",
      "1.0\n"
     ]
    }
   ],
   "source": [
    "for i in range(10):\n",
    "    for j in range(10):\n",
    "        print similiarity(i,j)"
   ]
  },
  {
   "cell_type": "code",
   "execution_count": 18,
   "metadata": {
    "collapsed": true
   },
   "outputs": [],
   "source": [
    "#"
   ]
  },
  {
   "cell_type": "code",
   "execution_count": 19,
   "metadata": {
    "collapsed": false
   },
   "outputs": [
    {
     "data": {
      "text/plain": [
       "[496, 699, 897, 1613, 1949, 2200, 2256, 3476]"
      ]
     },
     "execution_count": 19,
     "metadata": {},
     "output_type": "execute_result"
    }
   ],
   "source": [
    "np.where(df.ix[1,:]==1)[0].tolist()"
   ]
  },
  {
   "cell_type": "code",
   "execution_count": 20,
   "metadata": {
    "collapsed": false
   },
   "outputs": [
    {
     "data": {
      "text/plain": [
       "[15,\n",
       " 17,\n",
       " 39,\n",
       " 68,\n",
       " 79,\n",
       " 83,\n",
       " 107,\n",
       " 139,\n",
       " 154,\n",
       " 155,\n",
       " 161,\n",
       " 192,\n",
       " 230,\n",
       " 316,\n",
       " 341,\n",
       " 344,\n",
       " 354,\n",
       " 367,\n",
       " 377,\n",
       " 379,\n",
       " 389,\n",
       " 392,\n",
       " 393,\n",
       " 396,\n",
       " 429,\n",
       " 444,\n",
       " 447,\n",
       " 453,\n",
       " 459,\n",
       " 475,\n",
       " 486,\n",
       " 489,\n",
       " 492,\n",
       " 505,\n",
       " 518,\n",
       " 526,\n",
       " 528,\n",
       " 529,\n",
       " 530,\n",
       " 535,\n",
       " 536,\n",
       " 539,\n",
       " 569,\n",
       " 586,\n",
       " 587,\n",
       " 588,\n",
       " 594,\n",
       " 610,\n",
       " 622,\n",
       " 646,\n",
       " 672,\n",
       " 703,\n",
       " 709,\n",
       " 719,\n",
       " 722,\n",
       " 726,\n",
       " 736,\n",
       " 751,\n",
       " 772,\n",
       " 808,\n",
       " 809,\n",
       " 815,\n",
       " 824,\n",
       " 826,\n",
       " 841,\n",
       " 843,\n",
       " 864,\n",
       " 869,\n",
       " 900,\n",
       " 910,\n",
       " 919,\n",
       " 947,\n",
       " 950,\n",
       " 960,\n",
       " 963,\n",
       " 972,\n",
       " 996,\n",
       " 1001,\n",
       " 1002,\n",
       " 1036,\n",
       " 1063,\n",
       " 1067,\n",
       " 1076,\n",
       " 1109,\n",
       " 1133,\n",
       " 1181,\n",
       " 1192,\n",
       " 1242,\n",
       " 1249,\n",
       " 1270,\n",
       " 1290,\n",
       " 1309,\n",
       " 1326,\n",
       " 1334,\n",
       " 1339,\n",
       " 1371,\n",
       " 1378,\n",
       " 1386,\n",
       " 1411,\n",
       " 1436,\n",
       " 1444,\n",
       " 1445,\n",
       " 1453,\n",
       " 1484,\n",
       " 1501,\n",
       " 1504,\n",
       " 1526,\n",
       " 1533,\n",
       " 1535,\n",
       " 1557,\n",
       " 1574,\n",
       " 1604,\n",
       " 1628,\n",
       " 1636,\n",
       " 1669,\n",
       " 1681,\n",
       " 1719,\n",
       " 1733,\n",
       " 1752,\n",
       " 1759,\n",
       " 1773,\n",
       " 1808,\n",
       " 1817,\n",
       " 1821,\n",
       " 1829,\n",
       " 1832,\n",
       " 1862,\n",
       " 1874,\n",
       " 1898,\n",
       " 1905,\n",
       " 1908,\n",
       " 1917,\n",
       " 1925,\n",
       " 1949,\n",
       " 1972,\n",
       " 2002,\n",
       " 2007,\n",
       " 2011,\n",
       " 2023,\n",
       " 2068,\n",
       " 2077,\n",
       " 2083,\n",
       " 2090,\n",
       " 2099,\n",
       " 2121,\n",
       " 2147,\n",
       " 2163,\n",
       " 2164,\n",
       " 2179,\n",
       " 2180,\n",
       " 2197,\n",
       " 2238,\n",
       " 2267,\n",
       " 2272,\n",
       " 2274,\n",
       " 2275,\n",
       " 2310,\n",
       " 2337,\n",
       " 2399,\n",
       " 2424,\n",
       " 2446,\n",
       " 2493,\n",
       " 2494,\n",
       " 2502,\n",
       " 2539,\n",
       " 2566,\n",
       " 2571,\n",
       " 2575,\n",
       " 2577,\n",
       " 2579,\n",
       " 2583,\n",
       " 2609,\n",
       " 2614,\n",
       " 2625,\n",
       " 2655,\n",
       " 2711,\n",
       " 2730,\n",
       " 2745,\n",
       " 2758,\n",
       " 2764,\n",
       " 2765,\n",
       " 2769,\n",
       " 2773,\n",
       " 2800,\n",
       " 2813,\n",
       " 2828,\n",
       " 2834,\n",
       " 2838,\n",
       " 2841,\n",
       " 2862,\n",
       " 2900,\n",
       " 2915,\n",
       " 2923,\n",
       " 2940,\n",
       " 2947,\n",
       " 2981,\n",
       " 2982,\n",
       " 2983,\n",
       " 2986,\n",
       " 3022,\n",
       " 3026,\n",
       " 3027,\n",
       " 3037,\n",
       " 3048,\n",
       " 3053,\n",
       " 3096,\n",
       " 3114,\n",
       " 3135,\n",
       " 3160,\n",
       " 3177,\n",
       " 3196,\n",
       " 3205,\n",
       " 3224,\n",
       " 3232,\n",
       " 3251,\n",
       " 3257,\n",
       " 3259,\n",
       " 3263,\n",
       " 3270,\n",
       " 3283,\n",
       " 3289,\n",
       " 3303,\n",
       " 3306,\n",
       " 3307,\n",
       " 3308,\n",
       " 3311,\n",
       " 3312,\n",
       " 3318,\n",
       " 3330,\n",
       " 3338,\n",
       " 3355,\n",
       " 3401,\n",
       " 3423,\n",
       " 3430,\n",
       " 3438,\n",
       " 3444,\n",
       " 3459,\n",
       " 3481,\n",
       " 3487,\n",
       " 3496,\n",
       " 3506,\n",
       " 3537,\n",
       " 3543,\n",
       " 3551,\n",
       " 3568,\n",
       " 3570,\n",
       " 3573,\n",
       " 3583,\n",
       " 3596,\n",
       " 3601,\n",
       " 3602,\n",
       " 3618,\n",
       " 3622,\n",
       " 3630,\n",
       " 3647,\n",
       " 3661,\n",
       " 3692,\n",
       " 3725,\n",
       " 3742,\n",
       " 3743]"
      ]
     },
     "execution_count": 20,
     "metadata": {},
     "output_type": "execute_result"
    }
   ],
   "source": [
    "np.where(df.ix[0,:]==1)[0].tolist()"
   ]
  },
  {
   "cell_type": "code",
   "execution_count": 21,
   "metadata": {
    "collapsed": true
   },
   "outputs": [],
   "source": [
    "#"
   ]
  },
  {
   "cell_type": "code",
   "execution_count": 22,
   "metadata": {
    "collapsed": true
   },
   "outputs": [],
   "source": [
    "def brand_similiarity(user, brand):\n",
    "    similiar_list = []\n",
    "    likers = np.where(df.ix[brand,:]==1)[0].tolist()\n",
    "    for liker in likers:\n",
    "        similiar_list.append(similiarity(user,liker))\n",
    "    return sum(similiar_list)/len(similiar_list)\n",
    "        "
   ]
  },
  {
   "cell_type": "code",
   "execution_count": 23,
   "metadata": {
    "collapsed": false
   },
   "outputs": [
    {
     "data": {
      "text/plain": [
       "0.17647058823529413"
      ]
     },
     "execution_count": 23,
     "metadata": {},
     "output_type": "execute_result"
    }
   ],
   "source": [
    "brand_similiarity(user=1,brand=2)"
   ]
  },
  {
   "cell_type": "code",
   "execution_count": 24,
   "metadata": {
    "collapsed": true
   },
   "outputs": [],
   "source": [
    "#"
   ]
  },
  {
   "cell_type": "code",
   "execution_count": 25,
   "metadata": {
    "collapsed": true
   },
   "outputs": [],
   "source": [
    "num_brands = df.shape[0]\n",
    "brand_recommendation = []\n",
    "for i in range(num_brands):\n",
    "    brand_recommendation.append(brand_similiarity(user=1,brand=i))"
   ]
  },
  {
   "cell_type": "code",
   "execution_count": 26,
   "metadata": {
    "collapsed": false
   },
   "outputs": [
    {
     "data": {
      "text/plain": [
       "[0.1525564619529942,\n",
       " 0.1392617235580758,\n",
       " 0.17647058823529413,\n",
       " 0.11133512544802868,\n",
       " 0.17391304347826086,\n",
       " 0.0,\n",
       " 0.19230769230769232,\n",
       " 0.118187625927564,\n",
       " 0.12774994918001745,\n",
       " 0.08499774326980208,\n",
       " 0.13548085901027077,\n",
       " 0.041666666666666664,\n",
       " 0.1349206349206349,\n",
       " 0.05263157894736842,\n",
       " 0.1875,\n",
       " 0.0,\n",
       " 0.15559203467957394,\n",
       " 0.13636363636363635,\n",
       " 0.16180555555555556,\n",
       " 0.05263157894736842,\n",
       " 0.1304639381738091,\n",
       " 0.20833333333333334,\n",
       " 0.20833333333333334,\n",
       " 0.16179334204544288,\n",
       " 0.1751805665758996,\n",
       " 0.25806451612903225,\n",
       " 0.15,\n",
       " 0.10526315789473684,\n",
       " 0.16129032258064516,\n",
       " 0.17142857142857143,\n",
       " 0.11594202898550725,\n",
       " 0.25,\n",
       " 0.10526315789473684,\n",
       " 0.13043478260869565,\n",
       " 0.083994708994709,\n",
       " 0.14271319326599133,\n",
       " 0.1875,\n",
       " 0.15719474779815995,\n",
       " 0.3076923076923077,\n",
       " 0.1345987920621225,\n",
       " 0.1111111111111111,\n",
       " 0.05263157894736842,\n",
       " 0.12560455136912269,\n",
       " 0.1375,\n",
       " 0.14914529914529914,\n",
       " 0.16430678520759492,\n",
       " 0.22910216718266255,\n",
       " 0.19404761904761902,\n",
       " 0.1583598481880023,\n",
       " 0.19775590377987373,\n",
       " 0.24013671134308878,\n",
       " 0.15966204819032134,\n",
       " 0.14814814814814814,\n",
       " 0.1875,\n",
       " 0.16732919692378462,\n",
       " 0.21290859692208802,\n",
       " 0.07142857142857142,\n",
       " 0.21882686891677294,\n",
       " 0.0,\n",
       " 0.0,\n",
       " 0.16081747033671054,\n",
       " 0.09090909090909091,\n",
       " 0.05555555555555555,\n",
       " 0.23809523809523808,\n",
       " 0.17647058823529413,\n",
       " 0.14334915718783076,\n",
       " 0.16977502941126102,\n",
       " 0.20090815433684736,\n",
       " 0.06666666666666667,\n",
       " 0.10526315789473684,\n",
       " 0.14905304722241458,\n",
       " 0.14285714285714285,\n",
       " 0.1361319966583124,\n",
       " 0.15612374140265622,\n",
       " 0.16366460404663954,\n",
       " 0.18778801843317972,\n",
       " 0.0,\n",
       " 0.12460854637832762,\n",
       " 0.17261437028082963,\n",
       " 0.1875,\n",
       " 0.14424193318912343,\n",
       " 0.1335717351550718,\n",
       " 0.0625,\n",
       " 0.14533015769574908,\n",
       " 0.1519431461092386,\n",
       " 0.14361857779983855,\n",
       " 0.05555555555555555,\n",
       " 0.15,\n",
       " 0.1448893474160239,\n",
       " 0.15622591316668524,\n",
       " 0.32,\n",
       " 0.0,\n",
       " 0.1625694484397324,\n",
       " 0.058823529411764705,\n",
       " 0.10263157894736842,\n",
       " 0.159992784992785,\n",
       " 0.12848360655737706,\n",
       " 0.21428571428571427,\n",
       " 0.14857667023335572,\n",
       " 0.20833333333333334,\n",
       " 0.17038014922066086,\n",
       " 0.18573612013262114,\n",
       " 0.19701300866555466,\n",
       " 0.14441941808674907,\n",
       " 0.09090909090909091,\n",
       " 0.2540485829959514,\n",
       " 0.10886920774481348,\n",
       " 0.10526315789473684,\n",
       " 0.1567382913360501,\n",
       " 0.05263157894736842,\n",
       " 0.15759074665156947,\n",
       " 0.15123239192703192,\n",
       " 0.14458148718202488,\n",
       " 0.1776499080873633,\n",
       " 0.23653180732234955,\n",
       " 0.16846603085482126,\n",
       " 0.17142857142857143,\n",
       " 0.10348563667891399,\n",
       " 0.1406015037593985,\n",
       " 0.22712418300653597,\n",
       " 0.16129032258064516,\n",
       " 0.12590360881113127,\n",
       " 0.07631578947368421,\n",
       " 0.10526315789473684,\n",
       " 0.1600127973336915,\n",
       " 0.17646520146520148,\n",
       " 0.17216179416319968,\n",
       " 0.1587004729876005,\n",
       " 0.16666666666666666,\n",
       " 0.1685086740169495,\n",
       " 0.14255189255189255,\n",
       " 0.15966386554621848,\n",
       " 0.15989990969037768,\n",
       " 0.13003460346960294,\n",
       " 0.17056312415519126,\n",
       " 0.1785038488475554,\n",
       " 0.25806451612903225,\n",
       " 0.1,\n",
       " 0.19808180864691433,\n",
       " 0.17921058410188845,\n",
       " 0.09722222222222221,\n",
       " 0.20192307692307693,\n",
       " 0.07692307692307693,\n",
       " 0.17087754894094745,\n",
       " 0.07762145262145262,\n",
       " 0.2240780668233773,\n",
       " 0.09316560632350106,\n",
       " 0.14814814814814814,\n",
       " 0.125,\n",
       " 0.14160147453450397,\n",
       " 0.12,\n",
       " 0.14825907135897134,\n",
       " 0.25806451612903225,\n",
       " 0.25806451612903225,\n",
       " 0.14285714285714285,\n",
       " 0.16439978847170808,\n",
       " 0.13539988917880302,\n",
       " 0.2692307692307692,\n",
       " 0.18462247926766434,\n",
       " 0.0,\n",
       " 0.0625,\n",
       " 0.17647058823529413,\n",
       " 0.15980523043265327,\n",
       " 0.0,\n",
       " 0.14814814814814814,\n",
       " 0.10526315789473684,\n",
       " 0.125,\n",
       " 0.20833333333333334,\n",
       " 0.14337250724610026,\n",
       " 0.12363387978142076,\n",
       " 0.08333333333333333,\n",
       " 0.05263157894736842,\n",
       " 0.1,\n",
       " 0.17425173153670823,\n",
       " 0.1,\n",
       " 0.21428571428571427,\n",
       " 0.08571428571428572,\n",
       " 0.14177489177489178,\n",
       " 0.1267056530214425,\n",
       " 0.19047619047619047,\n",
       " 0.11875,\n",
       " 0.08538374059529891,\n",
       " 0.13636363636363635,\n",
       " 0.16794871794871793,\n",
       " 0.15112482853274173,\n",
       " 0.14959095961337046,\n",
       " 0.13636363636363635,\n",
       " 0.23076923076923078,\n",
       " 0.14835164835164835,\n",
       " 0.23076923076923078,\n",
       " 0.11086513494980314,\n",
       " 0.058823529411764705,\n",
       " 0.05263157894736842,\n",
       " 0.15,\n",
       " 0.0,\n",
       " 0.10995570476994626,\n",
       " 0.0,\n",
       " 0.25]"
      ]
     },
     "execution_count": 26,
     "metadata": {},
     "output_type": "execute_result"
    }
   ],
   "source": [
    "def brand_recommendations(user):\n",
    "    num_brands = df.shape[0]\n",
    "    brand_recommendation = []\n",
    "    for i in range(num_brands):\n",
    "        brand_recommendation.append(brand_similiarity(user=user,brand=i))\n",
    "    return brand_recommendation\n",
    "brand_recommendations(1)"
   ]
  },
  {
   "cell_type": "code",
   "execution_count": 27,
   "metadata": {
    "collapsed": false
   },
   "outputs": [
    {
     "data": {
      "text/plain": [
       "[<matplotlib.lines.Line2D at 0x7fb3de3d2b50>]"
      ]
     },
     "execution_count": 27,
     "metadata": {},
     "output_type": "execute_result"
    }
   ],
   "source": [
    "import matplotlib.pyplot as plt\n",
    "plt.plot(brand_recommendation)"
   ]
  },
  {
   "cell_type": "code",
   "execution_count": 28,
   "metadata": {
    "collapsed": false
   },
   "outputs": [
    {
     "name": "stdout",
     "output_type": "stream",
     "text": [
      "[0.3076923076923077, 0.32]\n"
     ]
    }
   ],
   "source": [
    "top_brands = [x for x in brand_recommendation if x >.3]\n",
    "print top_brands"
   ]
  },
  {
   "cell_type": "code",
   "execution_count": 29,
   "metadata": {
    "collapsed": false
   },
   "outputs": [
    {
     "data": {
      "text/plain": [
       "38"
      ]
     },
     "execution_count": 29,
     "metadata": {},
     "output_type": "execute_result"
    }
   ],
   "source": [
    "brand_recommendation.index(top_brands[0])"
   ]
  },
  {
   "cell_type": "code",
   "execution_count": 30,
   "metadata": {
    "collapsed": false
   },
   "outputs": [
    {
     "data": {
      "text/plain": [
       "[1033]"
      ]
     },
     "execution_count": 30,
     "metadata": {},
     "output_type": "execute_result"
    }
   ],
   "source": [
    "np.where(df.ix[38,:]==1)[0].tolist()"
   ]
  },
  {
   "cell_type": "code",
   "execution_count": 31,
   "metadata": {
    "collapsed": false
   },
   "outputs": [
    {
     "data": {
      "text/plain": [
       "90"
      ]
     },
     "execution_count": 31,
     "metadata": {},
     "output_type": "execute_result"
    }
   ],
   "source": [
    "brand_recommendation.index(top_brands[1])"
   ]
  },
  {
   "cell_type": "code",
   "execution_count": 32,
   "metadata": {
    "collapsed": false
   },
   "outputs": [
    {
     "data": {
      "text/plain": [
       "[1206]"
      ]
     },
     "execution_count": 32,
     "metadata": {},
     "output_type": "execute_result"
    }
   ],
   "source": [
    "np.where(df.ix[90,:]==1)[0].tolist()"
   ]
  },
  {
   "cell_type": "code",
   "execution_count": 33,
   "metadata": {
    "collapsed": true
   },
   "outputs": [],
   "source": [
    "def recommendation(user):\n",
    "    cutoff = 0.25\n",
    "    rec_list = brand_recommendations(user)\n",
    "    return [1 if x>cutoff else 0 for x in rec_list]"
   ]
  },
  {
   "cell_type": "code",
   "execution_count": 34,
   "metadata": {
    "collapsed": false
   },
   "outputs": [
    {
     "data": {
      "text/plain": [
       "[0,\n",
       " 0,\n",
       " 0,\n",
       " 0,\n",
       " 0,\n",
       " 0,\n",
       " 0,\n",
       " 0,\n",
       " 0,\n",
       " 0,\n",
       " 0,\n",
       " 0,\n",
       " 0,\n",
       " 0,\n",
       " 0,\n",
       " 0,\n",
       " 0,\n",
       " 0,\n",
       " 0,\n",
       " 0,\n",
       " 0,\n",
       " 0,\n",
       " 0,\n",
       " 0,\n",
       " 0,\n",
       " 1,\n",
       " 0,\n",
       " 0,\n",
       " 0,\n",
       " 0,\n",
       " 0,\n",
       " 0,\n",
       " 0,\n",
       " 0,\n",
       " 0,\n",
       " 0,\n",
       " 0,\n",
       " 0,\n",
       " 1,\n",
       " 0,\n",
       " 0,\n",
       " 0,\n",
       " 0,\n",
       " 0,\n",
       " 0,\n",
       " 0,\n",
       " 0,\n",
       " 0,\n",
       " 0,\n",
       " 0,\n",
       " 0,\n",
       " 0,\n",
       " 0,\n",
       " 0,\n",
       " 0,\n",
       " 0,\n",
       " 0,\n",
       " 0,\n",
       " 0,\n",
       " 0,\n",
       " 0,\n",
       " 0,\n",
       " 0,\n",
       " 0,\n",
       " 0,\n",
       " 0,\n",
       " 0,\n",
       " 0,\n",
       " 0,\n",
       " 0,\n",
       " 0,\n",
       " 0,\n",
       " 0,\n",
       " 0,\n",
       " 0,\n",
       " 0,\n",
       " 0,\n",
       " 0,\n",
       " 0,\n",
       " 0,\n",
       " 0,\n",
       " 0,\n",
       " 0,\n",
       " 0,\n",
       " 0,\n",
       " 0,\n",
       " 0,\n",
       " 0,\n",
       " 0,\n",
       " 0,\n",
       " 1,\n",
       " 0,\n",
       " 0,\n",
       " 0,\n",
       " 0,\n",
       " 0,\n",
       " 0,\n",
       " 0,\n",
       " 0,\n",
       " 0,\n",
       " 0,\n",
       " 0,\n",
       " 0,\n",
       " 0,\n",
       " 0,\n",
       " 1,\n",
       " 0,\n",
       " 0,\n",
       " 0,\n",
       " 0,\n",
       " 0,\n",
       " 0,\n",
       " 0,\n",
       " 0,\n",
       " 0,\n",
       " 0,\n",
       " 0,\n",
       " 0,\n",
       " 0,\n",
       " 0,\n",
       " 0,\n",
       " 0,\n",
       " 0,\n",
       " 0,\n",
       " 0,\n",
       " 0,\n",
       " 0,\n",
       " 0,\n",
       " 0,\n",
       " 0,\n",
       " 0,\n",
       " 0,\n",
       " 0,\n",
       " 0,\n",
       " 0,\n",
       " 0,\n",
       " 1,\n",
       " 0,\n",
       " 0,\n",
       " 0,\n",
       " 0,\n",
       " 0,\n",
       " 0,\n",
       " 0,\n",
       " 0,\n",
       " 0,\n",
       " 0,\n",
       " 0,\n",
       " 0,\n",
       " 0,\n",
       " 0,\n",
       " 0,\n",
       " 1,\n",
       " 1,\n",
       " 0,\n",
       " 0,\n",
       " 0,\n",
       " 1,\n",
       " 0,\n",
       " 0,\n",
       " 0,\n",
       " 0,\n",
       " 0,\n",
       " 0,\n",
       " 0,\n",
       " 0,\n",
       " 0,\n",
       " 0,\n",
       " 0,\n",
       " 0,\n",
       " 0,\n",
       " 0,\n",
       " 0,\n",
       " 0,\n",
       " 0,\n",
       " 0,\n",
       " 0,\n",
       " 0,\n",
       " 0,\n",
       " 0,\n",
       " 0,\n",
       " 0,\n",
       " 0,\n",
       " 0,\n",
       " 0,\n",
       " 0,\n",
       " 0,\n",
       " 0,\n",
       " 0,\n",
       " 0,\n",
       " 0,\n",
       " 0,\n",
       " 0,\n",
       " 0,\n",
       " 0,\n",
       " 0,\n",
       " 0,\n",
       " 0]"
      ]
     },
     "execution_count": 34,
     "metadata": {},
     "output_type": "execute_result"
    }
   ],
   "source": [
    "recommendation(1)"
   ]
  },
  {
   "cell_type": "markdown",
   "metadata": {},
   "source": [
    "### Bonus: Cross Validation"
   ]
  },
  {
   "cell_type": "code",
   "execution_count": 35,
   "metadata": {
    "collapsed": false
   },
   "outputs": [
    {
     "name": "stdout",
     "output_type": "stream",
     "text": [
      "[ 752  753  754 ..., 3756 3757 3758]\n",
      "[   0    1    2 ..., 3756 3757 3758]\n",
      "[   0    1    2 ..., 3756 3757 3758]\n",
      "[   0    1    2 ..., 3756 3757 3758]\n",
      "[   0    1    2 ..., 3005 3006 3007]\n"
     ]
    },
    {
     "name": "stderr",
     "output_type": "stream",
     "text": [
      "/home/anthonyta/anaconda2/lib/python2.7/site-packages/sklearn/cross_validation.py:41: DeprecationWarning: This module was deprecated in version 0.18 in favor of the model_selection module into which all the refactored classes and functions are moved. Also note that the interface of the new CV iterators are different from that of this module. This module will be removed in 0.20.\n",
      "  \"This module will be removed in 0.20.\", DeprecationWarning)\n"
     ]
    }
   ],
   "source": [
    "from sklearn.cross_validation import KFold\n",
    "kfold = KFold(df.shape[1],5)\n",
    "for train, test in kfold:\n",
    "    print train\n",
    "    \n",
    "        \n",
    "        "
   ]
  },
  {
   "cell_type": "code",
   "execution_count": 36,
   "metadata": {
    "collapsed": true
   },
   "outputs": [],
   "source": [
    "def get_likers_from_train(brand, train_set):\n",
    "    return np.where(df.ix[brand,train_set]==1)[0].tolist()\n",
    "    "
   ]
  },
  {
   "cell_type": "code",
   "execution_count": 40,
   "metadata": {
    "collapsed": true
   },
   "outputs": [],
   "source": [
    "def modified_brand_similiarity(user, brand, train):\n",
    "    similiar_list = []\n",
    "    likers = get_likers_from_train(brand, train)\n",
    "    for liker in likers:\n",
    "        similiar_list.append(similiarity(user,liker))\n",
    "    if len(similiar_list)>0:\n",
    "        return sum(similiar_list)/len(similiar_list)\n",
    "    else:\n",
    "        sum(similiar_list)\n",
    "    "
   ]
  },
  {
   "cell_type": "code",
   "execution_count": 41,
   "metadata": {
    "collapsed": true
   },
   "outputs": [],
   "source": [
    "def modified_brand_recommendations(user, train):\n",
    "    num_brands = df.shape[0]\n",
    "    brand_recommendation = []\n",
    "    for i in range(num_brands):\n",
    "        brand_recommendation.append(modified_brand_similiarity(user=user,brand=i, train=train))\n",
    "    return brand_recommendation"
   ]
  },
  {
   "cell_type": "code",
   "execution_count": 42,
   "metadata": {
    "collapsed": false
   },
   "outputs": [
    {
     "name": "stdout",
     "output_type": "stream",
     "text": [
      "[0.14015007659119935, 0.018518518518518517, 0.25, 0.25, 0.09090909090909091, None, 0.0, 0.0, 0.11130295005667398, 0.1899659863945578, 0.13523809523809524, 0.14285714285714285, 0.16666666666666666, 0.0, None, 0.0, 0.14706749224107543, 0.4, 0.0625, 0.0, 0.14399002164956248, 0.14285714285714285, 0.14285714285714285, 0.05952380952380952, 0.15413147065475552, 0.0, 0.10526315789473684, 0.0, 0.0, 0.0, 0.0, 0.07692307692307693, 0.0, 0.5, 0.41025641025641024, 0.13753303529853855, 0.0, 0.15090067856352443, 0.3333333333333333, 0.08333333333333333, 0.1, 0.0, 0.08035714285714286, 0.06666666666666667, 0.0, 0.19044339498884952, 0.03333333333333333, 0.10526315789473684, 0.15226835473691544, 0.14952865400335855, 0.16840918148760167, 0.14449247555586042, None, 0.0, 0.1328865928245705, 0.139659671733031, 0.08333333333333333, 0.1561328582481609, 0.0, 0.18181818181818182, 0.15481649654286145, 0.0, 0.16666666666666666, None, 0.0, 0.13915348067824848, 0.1572356630585766, 0.15491692284448158, 0.25, 0.0, 0.09116092729094637, 0.15384615384615385, 0.12857142857142856, 0.14662880016499016, 0.1411202462969599, 0.0, 0.0, 0.0976608187134503, 0.1508217378360026, 0.0, 0.14118589743589743, 0.14000917134283988, 0.0, 0.07212752525252525, 0.1529433074759245, 0.11608538527167626, 0.16666666666666666, 0.0, 0.13442088535717425, 0.08333333333333333, 0.5, 0.0, 0.13146170264584467, 0.0, 0.023809523809523808, 0.25, 0.13675213675213674, 0.3333333333333333, 0.13291933625940935, None, 0.15778893908754657, 0.14509940896107987, 0.1462938742322206, 0.12822277138066612, 0.0, 0.0, 0.1884469696969697, 0.0, 0.13913257289050945, 0.0, 0.13030890122701327, 0.13892654826781328, 0.1258835371518975, 0.12383364584921674, 0.13735980111686963, 0.14173689545832158, 0.0, 0.07587719298245614, 0.0744047619047619, 0.20833333333333331, 0.0, 0.11536463536463534, 0.125, 0.0, 0.148068881685694, 0.1445887445887446, 0.1191684931111079, 0.12018729082712569, 0.0, 0.14208523762017147, 0.09401709401709402, 0.0, 0.14984966904867017, 0.0997396696920485, 0.154221576784087, 0.14570279919350324, 0.0, 0.0, 0.1382158594298216, 0.06944444444444445, 0.125, 0.28448275862068967, 0.2, 0.22744155552443962, 0.044444444444444446, 0.14888158137068935, 0.1617063492063492, 0.13333333333333333, 0.034482758620689655, 0.11037567322561724, 0.0, 0.15253202583963543, 0.0, 0.0, 0.0, 0.041666666666666664, 0.12996806101580421, 0.2857142857142857, 0.16370130007993944, 0.25, 1.0, 0.5, 0.14553427343984462, 0.0, 0.13333333333333333, 0.16666666666666666, 0.08333333333333333, None, 0.1425334832686581, 0.0, 0.25, 0.0, 0.0, 0.14576514238064128, 0.0, 0.0, 0.07692307692307693, 0.125, 0.09047619047619047, None, 0.14285714285714285, 0.017857142857142856, 0.0, 0.2857142857142857, 0.09980158730158731, 0.1445560038809467, 0.4, 0.0, 0.3269230769230769, None, 0.057291666666666664, 0.08333333333333333, 0.0, 0.10526315789473684, None, 0.00819672131147541, 0.1111111111111111, 0.0]\n",
      "[0.11170229621434022, 0.10000000000000002, 0.2, 0.08038461538461539, 0.17647058823529413, None, 0.0, 0.0, 0.0884935738786185, 0.16653584510727365, 0.09070929070929071, 0.20384615384615384, 0.15384615384615385, 0.0, None, 0.3157894736842105, 0.11213700618556229, 0.25, 0.06666666666666667, 0.0, 0.10588815551772963, 0.23076923076923078, 0.23076923076923078, 0.1564213564213564, 0.12244127040827041, 0.0, 0.11538461538461539, 0.1, 0.0, 0.14285714285714285, 0.05897435897435898, 0.1, 0.0, 0.0, 0.1469298245614035, 0.101251060880206, 0.14285714285714285, 0.10919875308422539, 0.23076923076923078, 0.14957264957264957, 0.1111111111111111, 0.0, 0.0889040783777626, 0.09523809523809523, 0.08333333333333333, 0.1336990401161524, 0.07142857142857142, 0.11538461538461539, 0.11438441536893448, 0.10375267897454395, 0.10461914448924355, 0.11089193170683397, None, 0.23529411764705882, 0.103103799475986, 0.11364716214891898, 0.05, 0.10781698772547237, 0.0, 0.23529411764705882, 0.10986907583230472, 0.0, 0.15384615384615385, None, 0.07692307692307693, 0.10572371153713231, 0.11550556378000772, 0.10535209820786345, 0.18181818181818182, 0.1, 0.10051461857089013, 0.35294117647058826, 0.09437229437229437, 0.10439574645420792, 0.1064950961752545, 0.0, 0.3333333333333333, 0.07129390335912074, 0.11452299544354631, 0.23529411764705882, 0.12741591054284557, 0.1154213260207864, 0.0, 0.08938338493292054, 0.10541596334373375, 0.10486894956089497, 0.15384615384615385, 0.0, 0.10259987935316016, 0.025641025641025644, 0.0, 0.07692307692307693, 0.09978781800396587, 0.0, 0.11904761904761904, 0.0, 0.07827260458839407, 0.09090909090909091, 0.11830492484635857, None, 0.1005571131149352, 0.11549762423902088, 0.1079053562200064, 0.10956294197637892, 0.0, 0.0, 0.08876434023492848, 0.1, 0.10825827013686733, 0.0, 0.10409876206092167, 0.10842050455881685, 0.11289625619133793, 0.10337815027158456, 0.11030386499883334, 0.11175342863567563, 0.14285714285714285, 0.07108262108262109, 0.11607142857142856, 0.24705882352941178, 0.0, 0.08662361030782084, 0.09090909090909091, 0.1, 0.09602549271417449, 0.11624252940042412, 0.10397290530377189, 0.11255005922148996, 0.16666666666666666, 0.10442535283493724, 0.16666666666666666, 0.08333333333333333, 0.10213043423055619, 0.13491142321293162, 0.10420155616765295, 0.10787128134748722, 0.0, 0.0, 0.10816640888182277, 0.05, 0.09090909090909091, 0.12903225806451613, 0.16666666666666666, 0.08943096099389695, 0.028985507246376812, 0.1091515881425891, 0.1505952380952381, 0.08695652173913043, 0.12903225806451613, 0.10905760905760904, 0.0, 0.10430569373458781, 0.0, 0.0, 0.0, 0.04423076923076923, 0.10655613638087956, 0.21428571428571427, 0.10035373884248569, 0.08333333333333333, 0.0, 0.0, 0.11240652020164503, 0.0, 0.08695652173913043, 0.25, 0.08571428571428572, None, 0.10698138532206, 0.038461538461538464, 0.18181818181818182, 0.0, 0.05263157894736842, 0.10617915609969475, 0.0, 0.0, 0.13157894736842105, 0.09090909090909091, 0.16252587991718426, None, 0.10714285714285714, 0.09413919413919412, 0.1, 0.21428571428571427, 0.12242412595353773, 0.1207308120762152, 0.25, 0.1, 0.17647058823529413, None, 0.09821428571428571, 0.3076923076923077, 0.0, 0.11538461538461539, None, 0.06598360655737705, 0.125, 0.07142857142857142]\n",
      "[0.14306080487760633, 0.051687188986960154, 0.3333333333333333, 0.1527777777777778, None, 0.0, 0.0, 0.12962962962962962, 0.10591123851993417, 0.25077915781697296, 0.1493795093795094, 0.3125, 0.0, None, 0.3, 0.05555555555555555, 0.1441399007275957, 0.5, 0.07407407407407407, None, 0.1368571662979236, 0.25, 0.25, 0.11154970760233918, 0.13648248893906065, 0.0, 0.09523809523809523, 0.0, 0.0, 0.1111111111111111, 0.0, 0.14285714285714285, 0.0, None, 0.20476190476190478, 0.13463202628478343, 0.1111111111111111, 0.13764523456196848, None, 0.0, 0.14285714285714285, None, 0.08763161674926381, 0.09375, 0.1349206349206349, 0.15527442243169307, 0.058823529411764705, 0.10317460317460317, 0.16227569903127345, 0.17293099443151377, 0.1634681685530709, 0.15816160830858386, 0.08695652173913043, 0.07142857142857142, 0.14524674687741854, 0.15828792498729827, 0.07142857142857142, 0.15090395430350964, 0.0, None, 0.15091444549998756, 0.0, None, 0.1111111111111111, 0.0, 0.13726724929967005, 0.15090880148188693, 0.14700102797633957, 0.16666666666666666, 0.0, 0.11861052211340577, 0.13333333333333333, 0.11579365079365078, 0.140722359252088, 0.15110706299869145, 0.0, 0.0, 0.1383116883116883, 0.14032724691668413, 0.07142857142857142, 0.13781339031339032, 0.12880966434033217, 0.0, 0.07652243589743589, 0.18890496680759353, 0.13365547741595815, None, 0.0, 0.1356767477815752, 0.06944444444444443, None, 0.0, 0.14907348278405683, 0.0, 0.047619047619047616, 0.11231884057971014, 0.11349206349206349, 0.2, 0.14602749545505253, 0.15, 0.14161505134890254, 0.15920792950892218, 0.18571945073257615, 0.1423818312221338, 0.0, 0.0, 0.2853708791208791, 0.0, 0.1307338180583867, None, 0.14925621018810886, 0.15006307776676164, 0.13224728492224327, 0.13492351973180977, 0.1544637068803415, 0.15038664758180048, 0.1111111111111111, 0.11020408163265305, 0.06878306878306878, 0.28205128205128205, 0.0, 0.08937074829931971, 0.08333333333333333, 0.0, 0.14508073815783312, 0.20576923076923076, 0.1274154524883439, 0.1278909263942568, None, 0.1511577075857136, 0.08888888888888889, 0.13636363636363635, 0.1389185738536705, 0.16146546690024954, 0.14963689695145663, 0.14773514839467483, 0.0, 0.0, 0.15697331695919117, 0.08125, 0.2, 0.175, None, 0.1864245395127748, 0.0, 0.13613284917628957, 0.19166666666666665, None, 0.1, 0.20238095238095236, 0.0, 0.1551627306092407, 0.0, 0.0, 0.0, 0.10833333333333332, 0.12687574590849496, 0.375, 0.1548197264267212, 0.16666666666666666, 0.5, 0.25, 0.14780042236071728, 0.0, None, 0.2857142857142857, 0.1875, 0.15, 0.17786656853333696, 0.0, 0.4, 0.0, 0.0, 0.14255775960052014, 0.0, 0.25, 0.10714285714285714, 0.375, 0.09523809523809523, 0.05555555555555555, 0.18035714285714285, 0.11961451247165532, 0.0, 0.4017857142857143, 0.11382811507245895, 0.15293634190592828, 0.5, None, 0.19166666666666665, 0.25, 0.08820861678004535, None, None, 0.09523809523809523, 0.0, 0.01639344262295082, 0.2, 0.0]\n",
      "[0.05522185061296237, 0.006802721088435374, 0.125, 0.09210526315789473, None, 0.0, 0.0, 0.041666666666666664, 0.07620241078887695, 0.07797619047619046, 0.0, 0.07142857142857142, 0.0, None, 0.1111111111111111, 0.0, 0.05153471326091968, 0.2, 0.0, None, 0.05860775086997136, 0.0, 0.0, 0.0, 0.052659532649349826, 0.0, 0.05263157894736842, 0.0, 0.0, 0.0, 0.0, 0.08333333333333333, 0.0, None, 0.13675213675213674, 0.04681185484168266, 0.0, 0.04915014215543082, None, 0.0, 0.05, None, 0.1, 0.03333333333333333, 0.020833333333333332, 0.07411780139052866, 0.07142857142857142, 0.05756578947368421, 0.06235831015508232, 0.06049071916926184, 0.07375946941330849, 0.06344990653422199, 0.047619047619047616, 0.0, 0.051503361271345895, 0.05705968122218846, 0.0, 0.06514412488317928, 0.0, None, 0.04411462761995548, 0.0, None, 0.0625, 0.0, 0.03060177030943931, 0.05263996201057776, 0.056597721413486776, 0.0, 0.0, 0.05975224084325272, 0.07692307692307693, 0.04, 0.057556967605479306, 0.05997100348432517, 0.0, 0.0, 0.05099681020733651, 0.05191889408228472, 0.0, 0.08548534798534797, 0.04932134969540625, 0.0, 0.0, 0.09934541273392904, 0.032639792117733664, None, 0.0, 0.06405849222274222, 0.006944444444444444, None, 0.0, 0.061135951828987824, 0.0, 0.011904761904761904, 0.015873015873015872, 0.0, 0.0, 0.051227764097639954, 0.05263157894736842, 0.042863681060523566, 0.0620958679860836, 0.06664018244075147, 0.027952537019304027, 0.0, 0.0, 0.14583333333333334, 0.0, 0.04923276271949509, None, 0.043168724294744144, 0.05185062505285032, 0.04812443445419906, 0.0308627401560009, 0.04641264674586187, 0.05290397662941318, 0.0, 0.05037593984962406, 0.007936507936507936, 0.10416666666666666, 0.0, 0.01615646258503401, 0.0, 0.0, 0.06609079870716658, 0.08675324675324676, 0.04420837693696287, 0.02978615966321097, None, 0.05697478411245819, 0.0, 0.05, 0.05199371009853755, 0.04918392375486197, 0.05891859468316936, 0.059018091690902934, 0.0, 0.0, 0.05752574243107276, 0.0, 0.0, 0.017241379310344827, None, 0.10526660839160837, 0.0, 0.04422704497243409, 0.047619047619047616, None, 0.034482758620689655, 0.07554600787683495, 0.0, 0.07198797123158064, 0.0, 0.0, 0.0, 0.0, 0.03446859464077074, 0.14285714285714285, 0.05923371151979293, 0.0, 0.5, 1.0, 0.055970968958058906, 0.0, None, 0.0, 0.1, 0.05263157894736842, 0.06753542524185831, 0.0, 0.0, 0.0, 0.0, 0.057351920834488736, 0.0, 0.0, 0.038461538461538464, 0.16666666666666666, 0.023809523809523808, 0.0, 0.04887218045112782, 0.017857142857142856, 0.0, 0.15476190476190477, 0.02686202686202686, 0.03274733728372413, 0.2, None, 0.5384615384615384, 0.0, 0.023809523809523808, None, None, 0.05263157894736842, 0.0, 0.004098360655737705, 0.0, 0.0]\n",
      "[0.09353084181702163, 0.22666666666666666, 0.0, 0.04513888888888889, 0.1, 0.0, None, 0.05882352941176471, 0.05993509414562047, 0.06531339031339031, 0.08295454545454545, 0.0, 0.0, 0.029411764705882353, 0.0, 0.0, 0.0657254581538476, 0.0, 0.06315789473684211, 0.029411764705882353, 0.09376417526812626, None, None, 0.01, 0.05369412851176242, 0.2, None, 0.0, None, 0.0, 0.041666666666666664, 0.0, 0.2, 0.10526315789473684, 0.14583333333333331, 0.057172072184716, None, 0.05794501783818274, 0.0, 0.06666666666666667, 0.08695652173913043, 0.029411764705882353, 0.02722663139329806, None, 0.020833333333333332, 0.06063057266292859, 0.027777777777777776, 0.10526315789473684, 0.053961405167071354, 0.056375036597850335, 0.05422759748422467, 0.06274499776269611, 0.13043478260869565, 0.06666666666666667, 0.058303762662734876, 0.056443732990402, None, 0.06089691300427968, 0.0, 0.0, 0.060841283975598986, None, 0.0, 0.05, None, 0.06689719703457005, 0.05974464958173648, 0.06143880321246408, None, 0.0, 0.05957246776125676, 0.0, 0.25, 0.09109421377676405, 0.06406770557058174, 0.0, 0.1, 0.06662936913895992, 0.0586522284287566, 0.06666666666666667, 0.027530364372469637, 0.07492148310253843, 0.0, 0.07184065934065934, 0.04743799274369082, 0.05512590982076527, 0.0, None, 0.10524923575964358, 0.1275462962962963, 0.037037037037037035, None, 0.05106457422840631, None, 0.11794019933554817, 0.08333333333333333, 0.08333333333333333, 0.0, 0.10669469284294564, 0.0, 0.06518543496551776, 0.05382982512858719, 0.045832449022482416, 0.05937081982734171, None, 0.1111111111111111, 0.0964985994397759, 0.0, 0.06801654774481518, 0.029411764705882353, 0.05825378101929174, 0.07481625557866328, 0.05844755347358753, 0.056186343369625205, 0.05251447626774141, 0.05839525167181196, 0.0, 0.06739130434782609, 0.023255813953488372, 0.0, None, 0.03126803751803752, 1.0, 0.0, 0.05901621655761616, 0.03571428571428571, 0.057213299886980866, 0.05984985162461556, 0.23076923076923078, 0.05293258420002966, 0.0, 0.07142857142857142, 0.07246827381451718, 0.05712882401835889, 0.05976607437658651, 0.06767475717937425, 0.2, None, 0.05191160404014743, 0.027777777777777776, 0.0, 0.0, 0.0, 0.05885529016063291, 0.08333333333333333, 0.06161644698670382, 0.041666666666666664, 0.08333333333333333, 0.0, 0.041666666666666664, 0.0, 0.06599619773299534, 0.2, 0.2, 0.0, 0.06666666666666667, 0.05674083182785293, None, 0.05862607995961295, None, 0.0, 0.0, 0.0649848542226714, 0.0, 0.08333333333333333, None, 0.0, 0.0, 0.05204325806541771, 0.0, 0.0, 0.2, 0.07142857142857142, 0.05734093822654103, 0.14285714285714285, 0.0, 0.09821428571428571, None, 0.0881782945736434, 0.17647058823529413, 0.0, 0.07153032153032153, None, 0.0, 0.05077692105735882, 0.06581319359824082, 0.0, 0.0, 0.0, 0.0, 0.03662790697674419, 0.0, 0.029411764705882353, None, 0.0, 0.36065573770491804, 0.0, None]\n",
      "[0.11536597190140588, 0.12529411764705883, 0.038461538461538464, 0.08086547439488616, 0.2, 0.0, None, 0.0734174848059841, 0.07469969392892362, 0.0857487922705314, 0.08797211242863417, 0.041666666666666664, 0.038461538461538464, 0.2564102564102564, 0.16666666666666666, 0.21428571428571427, 0.1467140951061849, 0.0, 0.07797270955165692, 0.2564102564102564, 0.12278033772457395, None, None, 0.06833333333333333, 0.1402500568222084, 0.05263157894736842, None, 0.0, None, 0.13636363636363635, 0.09095655806182122, 0.10714285714285714, 0.05263157894736842, 0.25, 0.22333333333333333, 0.11929357515404182, None, 0.13327723052950802, 0.04, 0.2, 0.3448275862068966, 0.2564102564102564, 0.10303317540159646, None, 0.0496031746031746, 0.12225586738716201, 0.18803418803418803, 0.25, 0.11497430745006942, 0.114641795024499, 0.13554023881668328, 0.13362718108030558, 0.3793103448275862, 0.0, 0.11545792144701403, 0.1485001566994844, None, 0.15013681048181962, 0.05263157894736842, 0.0, 0.12216193917739591, None, 0.07692307692307693, 0.16666666666666666, None, 0.1576739621174356, 0.16867336800588945, 0.11089901474903813, None, 0.0, 0.11005179638993723, 0.18518518518518517, 0.07178030303030303, 0.15211671546843872, 0.11025912756260062, 0.0, 0.08695652173913043, 0.13776317451453568, 0.12255041310628959, 0.0, 0.08281422154419865, 0.15570926215309805, 0.05263157894736842, 0.09204558404558405, 0.09715136618194714, 0.1455989210410854, 0.07692307692307693, None, 0.1414042922794578, 0.10314388913460121, 0.2727272727272727, None, 0.13478714825678764, None, 0.2419908466819222, 0.17647058823529413, 0.04583333333333334, 0.0, 0.1602569773158323, 0.11764705882352941, 0.13013128781763916, 0.13613983591880963, 0.0911968623312564, 0.14163942296376025, None, 0.1724137931034483, 0.09895297249334514, 0.0, 0.12520844006763815, 0.2564102564102564, 0.11665220947712007, 0.13169682902996013, 0.13631945512142932, 0.14248571508633842, 0.11443647807511526, 0.1347272783562617, 0.13636363636363635, 0.12271045651263437, 0.13735177865612647, 0.0728021978021978, None, 0.08255239864435267, 0.2, 0.0, 0.12351071240491907, 0.10416666666666667, 0.15423216163620446, 0.16832044811834176, 0.2, 0.11303518919736787, 0.0, 0.10380952380952381, 0.16910791227283073, 0.10311077808471644, 0.13624139298618024, 0.11224805534412224, 0.05263157894736842, None, 0.09932263145129837, 0.04421052631578948, 0.0, 0.0, 0.045454545454545456, 0.16037388958234575, 0.08270676691729323, 0.12527848502891295, 0.015151515151515152, 0.14285714285714285, 0.0, 0.06340579710144928, 0.0, 0.14472384052836665, 0.05263157894736842, 0.05263157894736842, 0.0, 0.03341687552213868, 0.13183704651697117, None, 0.10925150233846856, None, 0.0, 0.0, 0.13289269841570386, 0.05263157894736842, 0.14285714285714285, None, 0.0, 0.11764705882352941, 0.09139746137298223, 0.0, 0.0, 0.05263157894736842, 0.20833333333333334, 0.13379225820134572, 0.15789473684210525, 0.0625, 0.2441666666666667, None, 0.234472049689441, 0.0967741935483871, 0.0392156862745098, 0.1500026581605529, None, 0.0, 0.12436109191257931, 0.1502195380722991, 0.0, 0.08695652173913043, 0.18518518518518517, 0.08695652173913043, 0.0795437643020595, 0.125, 0.2564102564102564, None, 0.0, 0.16344086021505377, 0.038461538461538464, None]\n",
      "[0.09991581607355174, 0.128800561636963, 0.058823529411764705, 0.06476133887898594, 0.17391304347826086, 0.0, 0.19230769230769232, 0.15441176470588236, 0.09005268269840705, 0.11757188646743096, 0.202020202020202, 0.03125, 0.0900735294117647, 0.05263157894736842, 0.0, 0.08695652173913043, 0.11007074059288251, None, 0.05507246376811594, 0.05263157894736842, 0.09783643679200281, 0.11538461538461539, 0.11538461538461539, 0.08452380952380951, 0.10272606365024754, None, 0.21052631578947367, 0.0, 0.09090909090909091, None, 0.04, 0.047619047619047616, None, 0.08333333333333333, 0.15588235294117647, 0.09294246821587901, 0.11764705882352941, 0.09156482388244692, 0.0625, 0.12948717948717947, 0.1111111111111111, 0.05263157894736842, 0.07678571428571429, 0.13457556935817805, 0.07738095238095238, 0.10524383717787016, 0.05, 0.17048054919908467, 0.09838752285547167, 0.09911986410534475, 0.10123032057345473, 0.10264644741174736, 0.14814814814814814, 0.16666666666666666, 0.09748893545678994, 0.09793748159924025, 0.07142857142857142, 0.10640654142763618, 0.0, 0.0, 0.1014902475072169, 0.2631578947368421, 0.11764705882352941, 0.0, 0.05263157894736842, 0.1077169821295495, 0.09803434328131715, 0.09906850278856265, 0.06666666666666667, 0.0, 0.08521883149196179, 0.15, 0.05555555555555555, 0.1031849445755225, 0.1345563227653156, 0.07670454545454546, 0.06666666666666667, 0.10309391428757324, 0.09589878068753509, 0.16666666666666666, 0.08624113808896416, 0.12130586742188511, None, 0.12425524037366142, 0.08910181125136286, 0.08586078777686154, 0.11764705882352941, 0.09523809523809523, 0.13920723906985236, 0.07551907724132985, 0.1, 0.14285714285714285, 0.09489229026929345, 0.125, 0.1068840579710145, 0.16320014595876667, 0.09372086247086248, None, 0.14382232017846075, 0.07407407407407407, 0.10255788141847351, 0.09650512378253208, 0.08800978677475392, 0.08861796186158698, 0.2631578947368421, 0.16433566433566432, 0.09179149920837901, 0.0, 0.09791676923746846, 0.05263157894736842, 0.09492894475782145, 0.14186196174459895, 0.09531175731359015, 0.09654688832759359, 0.09238280338156328, 0.10036649299836131, None, 0.14303978901502123, 0.06521739130434782, 0.07941176470588235, 0.09090909090909091, 0.06792369242413847, 0.29411764705882354, 0.0, 0.09299918653363393, 0.06909430438842203, 0.08721050326761914, 0.0915189098066086, 0.23529411764705882, 0.0948301895679428, 0.03571428571428571, 0.14646464646464646, 0.11044307090810096, 0.09686149098706026, 0.09850992549074618, 0.13364612427905556, None, 0.1, 0.09429305736783848, 0.03715170278637771, None, 0.07631578947368421, 0.0, 0.1096969172474238, 0.09257518796992481, 0.09623671467979379, 0.05555555555555555, 0.10714285714285714, 0.02631578947368421, 0.08691882268301537, 0.0, 0.10154499117530624, None, None, None, 0.07609086819613135, 0.09178195650735149, 0.1, 0.10683121497794386, 0.0, None, None, 0.10307615616298813, 0.0, 0.10714285714285714, 0.16666666666666666, 0.05555555555555555, 0.07407407407407407, 0.11471218642145223, 0.046153846153846156, None, None, 0.0, 0.09286018367281638, 0.08333333333333333, 0.03333333333333333, 0.075, 0.20410628019323673, 0.11878881987577639, 0.25, 0.05914351851851852, 0.10021167557932263, 0.19047619047619047, 0.12142857142857143, 0.10213569108930041, 0.09393641727675599, None, 0.06666666666666667, 0.11071428571428571, 0.14285714285714285, 0.08826322228496142, 0.0, 0.05263157894736842, 0.21052631578947367, 0.0, 0.2777777777777778, 0.125, 0.17647058823529413]\n",
      "[0.06495889544834846, 0.02714230853631775, 0.1111111111111111, 0.03867383512544803, 0.05555555555555555, 0.0, 0.045454545454545456, 0.08680555555555555, 0.09852656024531024, 0.09183006535947713, 0.08095238095238096, 0.0625, 0.05, 0.06666666666666667, 0.1, 0.0, 0.06826772690924214, None, 0.140625, 0.06666666666666667, 0.15845830850146278, 0.10526315789473684, 0.10526315789473684, 0.05803571428571428, 0.06184997592608453, None, 0.0, 0.0, 0.03225806451612903, None, 0.0, 0.07692307692307693, None, 0.125, 0.05128205128205129, 0.058096547428962295, 0.1, 0.07770168689892588, 0.125, 0.05806010928961748, 0.047619047619047616, 0.06666666666666667, 0.015625, 0.09453781512605042, 0.08333333333333333, 0.04252845919512586, 0.08333333333333333, 0.0625, 0.0765752518075592, 0.07950315709585688, 0.06861382915306113, 0.08499579665802535, 0.09523809523809523, 0.0, 0.07793210631446576, 0.07384717209839323, 0.0, 0.07662165493025463, 0.0, 0.0, 0.06146399319011384, 0.0, 0.1, 0.125, 0.0, 0.059865960564669134, 0.07403887693498384, 0.07320362212713273, 0.14285714285714285, 0.0, 0.04742407059643832, 0.07142857142857142, 0.0, 0.06423645511486317, 0.07852881570618969, 0.016129032258064516, 0.0, 0.07259921317298366, 0.06674309590070356, 0.0, 0.039585140736456526, 0.048789380927371846, None, 0.033625061094819164, 0.15381870766801883, 0.0633014106697964, 0.1, 0.07142857142857142, 0.08197062971563945, 0.11412365324316671, 0.08695652173913043, 0.0, 0.04372556821557843, 0.0, 0.023809523809523808, 0.031746031746031744, 0.00819672131147541, None, 0.08049932632971739, 0.05, 0.0708759429657778, 0.07843641076982516, 0.08185603831084969, 0.05994041255706737, 0.0, 0.05397727272727273, 0.1439734868306297, 0.0, 0.0698867362787106, 0.06666666666666667, 0.07004681541633885, 0.0612230996869889, 0.07195042684223826, 0.06010742884161815, 0.06197193880411474, 0.07508387031129318, None, 0.10052910052910052, 0.023809523809523808, 0.09401709401709402, 0.03225806451612903, 0.0638649495127549, 0.0, 0.0, 0.08507070639245952, 0.06673881673881675, 0.07049041436064343, 0.04173653488444744, 0.08333333333333333, 0.07691149177074315, 0.0, 0.17045454545454547, 0.06935716816253251, 0.06848741536241536, 0.0723220542241593, 0.07308948034494053, None, 0.07692307692307693, 0.07958708073812465, 0.0, None, 0.045454545454545456, 0.0, 0.05782858283483829, 0.0946969696969697, 0.06903097495860257, 0.06666666666666667, 0.045454545454545456, 0.045454545454545456, 0.050907258064516125, 0.0, 0.08901509025084305, None, None, None, 0.01092896174863388, 0.04424824858406033, 0.0, 0.06888112071047942, 0.0, None, None, 0.07044539172582157, 0.0, 0.045454545454545456, 0.0, 0.0, 0.05, 0.07841062069573715, 0.1413934426229508, None, None, 0.0, 0.06585813321060191, 0.0, 0.05555555555555555, 0.07692307692307693, 0.0625, 0.046536796536796536, 0.0625, 0.06298076923076923, 0.03211805555555555, 0.0625, 0.07142857142857142, 0.041148502035598805, 0.06927513247594032, None, 0.0, 0.11904761904761904, 0.0, 0.09188988095238096, 0.0, 0.06666666666666667, 0.0, 0.0, 0.0, 0.0, 0.09090909090909091]\n",
      "[0.2223983914309744, 0.1985656859516704, None, 0.17505933757686912, 0.20689655172413793, 0.0, 0.21875, 0.188013468013468, 0.21348647431339884, 0.18845876345876347, 0.12626722519139102, None, 0.13523809523809524, 0.11627906976744186, 0.125, None, 0.2390754665348741, 0.13793103448275862, 0.15212121212121213, 0.11627906976744186, 0.19817174224663506, 0.27586206896551724, 0.27586206896551724, 0.23741645781119464, 0.2596897403529694, 0.38235294117647056, 0.19230769230769232, None, 0.2903225806451613, 0.13953488372093023, 0.14814814814814814, None, 0.11538461538461539, 0.21428571428571427, 0.08444816053511706, 0.2014409566759729, 0.125, 0.28634371310945494, 0.25, 0.277975766215253, None, 0.11627906976744186, 0.16599619382228079, 0.1794871794871795, 0.20814400130761684, 0.26715159102779434, 0.2, 0.25, 0.23213161278075609, 0.20034337847828299, 0.30004688092020876, 0.20487365908741156, 0.3, None, 0.23978964863716484, 0.23387785931824803, 0.15, 0.32498679981375217, None, 0.0, 0.29969260496401634, 0.23076923076923078, 0.08, 0.4782608695652174, 0.21739130434782608, 0.22623024101459588, 0.24722670389615295, 0.23176844901614924, 0.14285714285714285, None, 0.2009793946864308, None, 0.16374741200828155, 0.24469160700194478, 0.25505096400484706, 0.2403993855606759, None, 0.22106741068289412, 0.2951406304405119, None, 0.20960819569501837, 0.19767991903593396, 0.19047619047619047, 0.20015028976159008, 0.2212811708901764, 0.21317094269284495, 0.08, 0.19230769230769232, 0.20434546262640713, 0.22919621252183386, 0.4642857142857143, 0.09090909090909091, 0.23940621277703256, 0.3, None, 0.2119442924040625, 0.1922184887259727, 0.2826086956521739, 0.227532140105504, 0.4230769230769231, 0.30411755900108817, 0.22710846508173865, 0.23071382168490892, 0.21395774691872324, 0.23076923076923078, 0.2204861111111111, 0.15620465990780835, None, 0.27510475688664965, 0.11627906976744186, 0.2048220314524925, 0.2234613978381548, 0.19759617713418068, 0.24799829326007708, 0.29749954094128805, 0.2364986903419327, 0.13953488372093023, 0.2374949124949125, 0.12443370582905466, None, 0.2903225806451613, 0.20006526267660837, 0.13692307692307693, None, 0.21803141926093325, 0.23266666666666666, 0.23714909632795475, 0.24258014805610698, 0.07407407407407407, 0.2369442709650505, 0.10793650793650793, 0.21739130434782608, 0.244584262164671, 0.23195901275205802, 0.2759000242969131, 0.2261998370625948, 0.38235294117647056, 0.15384615384615385, 0.2401386737389575, 0.288695652173913, 0.2523809523809524, 0.21739130434782608, 0.047619047619047616, 0.23519029513126663, 0.13752913752913754, 0.3004403598908187, 0.09285714285714286, 0.18181818181818182, 0.10869565217391304, 0.19970772565442974, None, 0.19948485424081752, 0.38235294117647056, 0.38235294117647056, 0.14285714285714285, 0.269583091517734, 0.1946298290712548, 0.36666666666666664, 0.3038018673809871, 0.0, 0.08695652173913043, 0.21739130434782608, 0.2749637237580018, None, 0.18181818181818182, 0.20833333333333334, 0.16666666666666666, 0.4230769230769231, 0.20275661879638246, 0.17254098360655737, 0.13333333333333333, 0.16666666666666666, None, 0.2748229694729937, None, 0.16450216450216448, None, 0.3132045088566828, 0.18181818181818182, 0.2222222222222222, 0.1923076923076923, 0.11998900570329142, 0.2222222222222222, 0.31491228070175437, 0.19567885005994534, 0.22757213944734325, 0.13793103448275862, 0.14285714285714285, 0.21052631578947367, 0.2631578947368421, 0.1512670565302144, 0.08333333333333333, 0.11627906976744186, 0.19230769230769232, 0.0, 0.1573148148148148, None, 0.16666666666666666]\n",
      "[0.11199138128226635, 0.09764743204434648, None, 0.09203887510339122, 0.1111111111111111, 0.0, 0.14285714285714285, 0.14385026737967913, 0.19407874733961689, 0.13332281144781147, 0.09303660409875988, None, 0.045454545454545456, 0.06451612903225806, 0.0, None, 0.09484811335858946, 0.125, 0.125, 0.06451612903225806, 0.10548853592383885, 0.047619047619047616, 0.047619047619047616, 0.10714285714285714, 0.10665707398463888, 0.10344827586206896, 0.06666666666666667, None, 0.04838709677419355, 0.0967741935483871, 0.05555555555555555, None, 0.16666666666666666, 0.11764705882352941, 0.15656565656565657, 0.11535625811303585, 0.09090909090909091, 0.08564606031415321, 0.25, 0.16095380029806258, None, 0.06451612903225806, 0.10202991452991454, 0.12698412698412698, 0.20512820512820512, 0.151931700545831, 0.15476190476190477, 0.09215686274509804, 0.11849980061816832, 0.14269229565128327, 0.1274362524155611, 0.19737299457496418, 0.14285714285714285, None, 0.12429676572677317, 0.12920620114074008, 0.3333333333333333, 0.0942471501728721, None, 0.0, 0.09112463175784592, 0.13333333333333333, 0.09090909090909091, 0.05555555555555555, 0.08333333333333333, 0.08117622963438227, 0.10986985113283351, 0.12287711113281584, 0.125, None, 0.10796792950801944, None, 0.08376887340301974, 0.07909291274413666, 0.1523279990209591, 0.024193548387096774, None, 0.06831187885951938, 0.09780307798167306, None, 0.09154498259591513, 0.07933325267771459, 0.0, 0.13904816381774907, 0.15509474889419528, 0.08355845081218191, 0.09090909090909091, 0.14285714285714285, 0.11098202832895336, 0.10174103542030564, 0.08333333333333333, 0.125, 0.09109005167289885, 0.1, None, 0.0783816425120773, 0.0904675166970249, 0.07317073170731707, 0.10274612306459367, 0.1, 0.09935516626611532, 0.1345840096826304, 0.17218154550151654, 0.06571760415511434, 0.13333333333333333, 0.13392857142857142, 0.07213157213157213, None, 0.08323035859775435, 0.06451612903225806, 0.1360899724549289, 0.10048719011771194, 0.10663724937645605, 0.09492832007097275, 0.12481035125854795, 0.1180851734535833, 0.0967741935483871, 0.06614583333333333, 0.12749615975422426, None, 0.04838709677419355, 0.08612931261992605, 0.11858974358974358, None, 0.1339903301311957, 0.10660173160173159, 0.09654306241445974, 0.07544441867424391, 0.0, 0.13443269337233865, 0.21944444444444444, 0.3, 0.0875848010264235, 0.09714456510122145, 0.11560111740907592, 0.11384030570136353, 0.10344827586206896, 0.07142857142857142, 0.23859970380641068, 0.09090909090909091, 0.043402777777777776, 0.18181818181818182, 0.0, 0.1355797671205498, 0.07474747474747474, 0.10850125652888266, 0.041666666666666664, 0.09090909090909091, 0.09090909090909091, 0.07301570188192578, None, 0.12323121822831494, 0.10344827586206896, 0.10344827586206896, 0.2857142857142857, 0.1530432032636668, 0.0795162223909544, 0.08333333333333333, 0.1176473176898442, 0.0, 0.25, 0.08333333333333333, 0.106421881221426, None, 0.09090909090909091, 0.07692307692307693, 0.08333333333333333, 0.1, 0.22855640446821923, 0.02459016393442623, 0.05555555555555555, 0.08333333333333333, None, 0.09577733965178072, None, 0.19285714285714284, None, 0.09215686274509804, 0.09090909090909091, 0.058823529411764705, 0.05714285714285714, 0.08265306122448979, 0.125, 0.10416666666666666, 0.09938556067588326, 0.07754737424604628, 0.125, 0.2857142857142857, 0.3333333333333333, 0.125, 0.14007936507936508, 0.1, 0.06451612903225806, 0.06666666666666667, 0.0, 0.09381868131868132, None, 0.18181818181818182]\n"
     ]
    }
   ],
   "source": [
    "from sklearn.cross_validation import KFold\n",
    "kfold = KFold(df.shape[1],5)\n",
    "for train, test in kfold:\n",
    "    for h in test[0:2].tolist():\n",
    "        print modified_brand_recommendations(h, train)"
   ]
  },
  {
   "cell_type": "code",
   "execution_count": null,
   "metadata": {
    "collapsed": true
   },
   "outputs": [],
   "source": []
  },
  {
   "cell_type": "code",
   "execution_count": null,
   "metadata": {
    "collapsed": true
   },
   "outputs": [],
   "source": []
  }
 ],
 "metadata": {
  "kernelspec": {
   "display_name": "Python [default]",
   "language": "python",
   "name": "python2"
  },
  "language_info": {
   "codemirror_mode": {
    "name": "ipython",
    "version": 2
   },
   "file_extension": ".py",
   "mimetype": "text/x-python",
   "name": "python",
   "nbconvert_exporter": "python",
   "pygments_lexer": "ipython2",
   "version": "2.7.12"
  }
 },
 "nbformat": 4,
 "nbformat_minor": 1
}
